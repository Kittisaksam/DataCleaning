{
 "cells": [
  {
   "cell_type": "markdown",
   "metadata": {
    "colab_type": "text",
    "id": "Blp1zqAr6MAi"
   },
   "source": [
    "# Load & Preview Data"
   ]
  },
  {
   "cell_type": "markdown",
   "metadata": {
    "colab_type": "text",
    "id": "IRjfRV0i8rxN"
   },
   "source": [
    "Before you start working with data for a machine learning project, it is vital to understand what the data is, and what we want to achieve. Without it, we have no basis from which to make our decisions about what data is relevant as we clean and prepare our data."
   ]
  },
  {
   "cell_type": "markdown",
   "metadata": {
    "colab_type": "text",
    "id": "Wz0KtECV86PO"
   },
   "source": [
    "**1) Load & preview data**"
   ]
  },
  {
   "cell_type": "code",
   "execution_count": 3,
   "metadata": {
    "colab": {},
    "colab_type": "code",
    "id": "Er6MtvK-eTJZ"
   },
   "outputs": [],
   "source": [
    "import pandas as pd\n",
    "import numpy as np\n",
    "\n",
    "import matplotlib.pyplot as plt\n",
    "%matplotlib inline\n",
    "plt.rcParams['figure.figsize'] = (12,8)"
   ]
  },
  {
   "cell_type": "code",
   "execution_count": 4,
   "metadata": {
    "colab": {},
    "colab_type": "code",
    "id": "yYJLCQX6eTK_"
   },
   "outputs": [],
   "source": [
    "df = pd.read_csv('customer-churn-data_for-data-prep.csv') "
   ]
  },
  {
   "cell_type": "code",
   "execution_count": 5,
   "metadata": {
    "colab": {
     "base_uri": "https://localhost:8080/",
     "height": 221
    },
    "colab_type": "code",
    "executionInfo": {
     "elapsed": 7328,
     "status": "ok",
     "timestamp": 1560693124842,
     "user": {
      "displayName": "Teerapong Panboonyuen",
      "photoUrl": "https://lh6.googleusercontent.com/-iKyx5xtWFk8/AAAAAAAAAAI/AAAAAAAACqY/cdrOGhiN8Pw/s64/photo.jpg",
      "userId": "10952242531985089596"
     },
     "user_tz": -420
    },
    "id": "wdb8zF2ieWKb",
    "outputId": "579bc5e7-9caf-4f75-b658-2f4f6a927108"
   },
   "outputs": [
    {
     "name": "stdout",
     "output_type": "stream",
     "text": [
      "<class 'pandas.core.frame.DataFrame'>\n",
      "RangeIndex: 996 entries, 0 to 995\n",
      "Data columns (total 7 columns):\n",
      " #   Column           Non-Null Count  Dtype  \n",
      "---  ------           --------------  -----  \n",
      " 0   Gender           978 non-null    object \n",
      " 1   Payment Method   996 non-null    object \n",
      " 2   Churn            898 non-null    object \n",
      " 3   LastTransaction  996 non-null    int64  \n",
      " 4   Country          996 non-null    object \n",
      " 5   Province         427 non-null    object \n",
      " 6   BirthYear        982 non-null    float64\n",
      "dtypes: float64(1), int64(1), object(5)\n",
      "memory usage: 54.6+ KB\n"
     ]
    }
   ],
   "source": [
    "df.info()"
   ]
  },
  {
   "cell_type": "code",
   "execution_count": 6,
   "metadata": {
    "colab": {
     "base_uri": "https://localhost:8080/",
     "height": 204
    },
    "colab_type": "code",
    "executionInfo": {
     "elapsed": 7316,
     "status": "ok",
     "timestamp": 1560693124843,
     "user": {
      "displayName": "Teerapong Panboonyuen",
      "photoUrl": "https://lh6.googleusercontent.com/-iKyx5xtWFk8/AAAAAAAAAAI/AAAAAAAACqY/cdrOGhiN8Pw/s64/photo.jpg",
      "userId": "10952242531985089596"
     },
     "user_tz": -420
    },
    "id": "Fmclj7W8vp_b",
    "outputId": "dcef8492-c1c9-445d-cd9d-55c03dd7a887"
   },
   "outputs": [
    {
     "data": {
      "text/html": [
       "<div>\n",
       "<style scoped>\n",
       "    .dataframe tbody tr th:only-of-type {\n",
       "        vertical-align: middle;\n",
       "    }\n",
       "\n",
       "    .dataframe tbody tr th {\n",
       "        vertical-align: top;\n",
       "    }\n",
       "\n",
       "    .dataframe thead th {\n",
       "        text-align: right;\n",
       "    }\n",
       "</style>\n",
       "<table border=\"1\" class=\"dataframe\">\n",
       "  <thead>\n",
       "    <tr style=\"text-align: right;\">\n",
       "      <th></th>\n",
       "      <th>Gender</th>\n",
       "      <th>Payment Method</th>\n",
       "      <th>Churn</th>\n",
       "      <th>LastTransaction</th>\n",
       "      <th>Country</th>\n",
       "      <th>Province</th>\n",
       "      <th>BirthYear</th>\n",
       "    </tr>\n",
       "  </thead>\n",
       "  <tbody>\n",
       "    <tr>\n",
       "      <th>0</th>\n",
       "      <td>male</td>\n",
       "      <td>credit card</td>\n",
       "      <td>loyal</td>\n",
       "      <td>1</td>\n",
       "      <td>TH</td>\n",
       "      <td>Bangkok</td>\n",
       "      <td>1899.0</td>\n",
       "    </tr>\n",
       "    <tr>\n",
       "      <th>1</th>\n",
       "      <td>female</td>\n",
       "      <td>credit card</td>\n",
       "      <td>churn</td>\n",
       "      <td>3</td>\n",
       "      <td>TH</td>\n",
       "      <td>Bangkok</td>\n",
       "      <td>2000.0</td>\n",
       "    </tr>\n",
       "    <tr>\n",
       "      <th>2</th>\n",
       "      <td>male</td>\n",
       "      <td>credit card</td>\n",
       "      <td>loyal</td>\n",
       "      <td>6</td>\n",
       "      <td>TH</td>\n",
       "      <td>Non Nam Thaeng</td>\n",
       "      <td>1980.0</td>\n",
       "    </tr>\n",
       "    <tr>\n",
       "      <th>3</th>\n",
       "      <td>female</td>\n",
       "      <td>credit card</td>\n",
       "      <td>churn</td>\n",
       "      <td>7</td>\n",
       "      <td>TH</td>\n",
       "      <td>Ang Thong</td>\n",
       "      <td>1899.0</td>\n",
       "    </tr>\n",
       "    <tr>\n",
       "      <th>4</th>\n",
       "      <td>female</td>\n",
       "      <td>credit card</td>\n",
       "      <td>churn</td>\n",
       "      <td>11</td>\n",
       "      <td>TH</td>\n",
       "      <td>Bueng Kan</td>\n",
       "      <td>1985.0</td>\n",
       "    </tr>\n",
       "  </tbody>\n",
       "</table>\n",
       "</div>"
      ],
      "text/plain": [
       "   Gender Payment Method  Churn  LastTransaction Country        Province  \\\n",
       "0    male    credit card  loyal                1      TH         Bangkok   \n",
       "1  female    credit card  churn                3      TH         Bangkok   \n",
       "2    male    credit card  loyal                6      TH  Non Nam Thaeng   \n",
       "3  female    credit card  churn                7      TH       Ang Thong   \n",
       "4  female    credit card  churn               11      TH       Bueng Kan   \n",
       "\n",
       "   BirthYear  \n",
       "0     1899.0  \n",
       "1     2000.0  \n",
       "2     1980.0  \n",
       "3     1899.0  \n",
       "4     1985.0  "
      ]
     },
     "execution_count": 6,
     "metadata": {},
     "output_type": "execute_result"
    }
   ],
   "source": [
    "df.head()"
   ]
  },
  {
   "cell_type": "code",
   "execution_count": 7,
   "metadata": {
    "colab": {
     "base_uri": "https://localhost:8080/",
     "height": 153
    },
    "colab_type": "code",
    "executionInfo": {
     "elapsed": 7304,
     "status": "ok",
     "timestamp": 1560693124844,
     "user": {
      "displayName": "Teerapong Panboonyuen",
      "photoUrl": "https://lh6.googleusercontent.com/-iKyx5xtWFk8/AAAAAAAAAAI/AAAAAAAACqY/cdrOGhiN8Pw/s64/photo.jpg",
      "userId": "10952242531985089596"
     },
     "user_tz": -420
    },
    "id": "8JS5LtYZzQQf",
    "outputId": "c08d8a52-225f-4523-8002-7e6054660cda"
   },
   "outputs": [
    {
     "data": {
      "text/plain": [
       "Gender              18\n",
       "Payment Method       0\n",
       "Churn               98\n",
       "LastTransaction      0\n",
       "Country              0\n",
       "Province           569\n",
       "BirthYear           14\n",
       "dtype: int64"
      ]
     },
     "execution_count": 7,
     "metadata": {},
     "output_type": "execute_result"
    }
   ],
   "source": [
    "df.isnull().sum()"
   ]
  },
  {
   "cell_type": "markdown",
   "metadata": {
    "colab_type": "text",
    "id": "e8HUS_lX6V7M"
   },
   "source": [
    "**Histogram plot**"
   ]
  },
  {
   "cell_type": "code",
   "execution_count": 8,
   "metadata": {
    "colab": {
     "base_uri": "https://localhost:8080/",
     "height": 528
    },
    "colab_type": "code",
    "executionInfo": {
     "elapsed": 7616,
     "status": "ok",
     "timestamp": 1560693125170,
     "user": {
      "displayName": "Teerapong Panboonyuen",
      "photoUrl": "https://lh6.googleusercontent.com/-iKyx5xtWFk8/AAAAAAAAAAI/AAAAAAAACqY/cdrOGhiN8Pw/s64/photo.jpg",
      "userId": "10952242531985089596"
     },
     "user_tz": -420
    },
    "id": "7pC9XXtm6Upx",
    "outputId": "985dd507-cad5-4200-a9f6-684de2499456"
   },
   "outputs": [
    {
     "data": {
      "text/plain": [
       "18"
      ]
     },
     "execution_count": 8,
     "metadata": {},
     "output_type": "execute_result"
    },
    {
     "data": {
      "image/png": "[encoded data removed]",
      "text/plain": [
       "<Figure size 864x576 with 1 Axes>"
      ]
     },
     "metadata": {
      "needs_background": "light"
     },
     "output_type": "display_data"
    }
   ],
   "source": [
    "df['Gender'].value_counts().plot(kind='bar', label = True)\n",
    "# df['Gender'].fillna('Missing').value_counts().plot(kind='bar')\n",
    "df['Gender'].isnull().sum()"
   ]
  },
  {
   "cell_type": "code",
   "execution_count": 9,
   "metadata": {
    "colab": {
     "base_uri": "https://localhost:8080/",
     "height": 547
    },
    "colab_type": "code",
    "executionInfo": {
     "elapsed": 7960,
     "status": "ok",
     "timestamp": 1560693125526,
     "user": {
      "displayName": "Teerapong Panboonyuen",
      "photoUrl": "https://lh6.googleusercontent.com/-iKyx5xtWFk8/AAAAAAAAAAI/AAAAAAAACqY/cdrOGhiN8Pw/s64/photo.jpg",
      "userId": "10952242531985089596"
     },
     "user_tz": -420
    },
    "id": "di74o0F9enF0",
    "outputId": "3856ad54-84c5-4f2b-b800-581676f6ee9b"
   },
   "outputs": [
    {
     "data": {
      "text/plain": [
       "0"
      ]
     },
     "execution_count": 9,
     "metadata": {},
     "output_type": "execute_result"
    },
    {
     "data": {
      "image/png": "[encoded data removed]",
      "text/plain": [
       "<Figure size 864x576 with 1 Axes>"
      ]
     },
     "metadata": {
      "needs_background": "light"
     },
     "output_type": "display_data"
    }
   ],
   "source": [
    "df['Payment Method'].value_counts().plot(kind='bar')\n",
    "# df['Payment Method'].fillna('Missing').value_counts().plot(kind='bar')\n",
    "df['Payment Method'].isnull().sum()"
   ]
  },
  {
   "cell_type": "code",
   "execution_count": 10,
   "metadata": {
    "colab": {
     "base_uri": "https://localhost:8080/",
     "height": 522
    },
    "colab_type": "code",
    "executionInfo": {
     "elapsed": 8304,
     "status": "ok",
     "timestamp": 1560693125881,
     "user": {
      "displayName": "Teerapong Panboonyuen",
      "photoUrl": "https://lh6.googleusercontent.com/-iKyx5xtWFk8/AAAAAAAAAAI/AAAAAAAACqY/cdrOGhiN8Pw/s64/photo.jpg",
      "userId": "10952242531985089596"
     },
     "user_tz": -420
    },
    "id": "ZalgHRj5enKf",
    "outputId": "03d31de8-ae6e-4585-d15f-cea7f158b219"
   },
   "outputs": [
    {
     "data": {
      "text/plain": [
       "98"
      ]
     },
     "execution_count": 10,
     "metadata": {},
     "output_type": "execute_result"
    },
    {
     "data": {
      "image/png": "[encoded data removed]",
      "text/plain": [
       "<Figure size 864x576 with 1 Axes>"
      ]
     },
     "metadata": {
      "needs_background": "light"
     },
     "output_type": "display_data"
    }
   ],
   "source": [
    "df['Churn'].value_counts().plot(kind='bar')\n",
    "# df['Churn'].fillna('Missing').value_counts().plot(kind='bar')\n",
    "df['Churn'].isnull().sum()"
   ]
  },
  {
   "cell_type": "code",
   "execution_count": 11,
   "metadata": {
    "colab": {
     "base_uri": "https://localhost:8080/",
     "height": 507
    },
    "colab_type": "code",
    "executionInfo": {
     "elapsed": 8294,
     "status": "ok",
     "timestamp": 1560693125883,
     "user": {
      "displayName": "Teerapong Panboonyuen",
      "photoUrl": "https://lh6.googleusercontent.com/-iKyx5xtWFk8/AAAAAAAAAAI/AAAAAAAACqY/cdrOGhiN8Pw/s64/photo.jpg",
      "userId": "10952242531985089596"
     },
     "user_tz": -420
    },
    "id": "pUNpq9dgenPt",
    "outputId": "4c5bc865-9b27-44ee-cbaa-ca9894d99c80"
   },
   "outputs": [
    {
     "data": {
      "text/plain": [
       "0"
      ]
     },
     "execution_count": 11,
     "metadata": {},
     "output_type": "execute_result"
    },
    {
     "data": {
      "image/png": "[encoded data removed]",
      "text/plain": [
       "<Figure size 864x576 with 1 Axes>"
      ]
     },
     "metadata": {
      "needs_background": "light"
     },
     "output_type": "display_data"
    }
   ],
   "source": [
    "df['Country'].value_counts().plot(kind='bar')\n",
    "# df['Country'].fillna('Missing').value_counts().plot(kind='bar')\n",
    "df['Country'].isnull().sum()"
   ]
  },
  {
   "cell_type": "code",
   "execution_count": 12,
   "metadata": {
    "colab": {
     "base_uri": "https://localhost:8080/",
     "height": 624
    },
    "colab_type": "code",
    "executionInfo": {
     "elapsed": 10003,
     "status": "ok",
     "timestamp": 1560693127667,
     "user": {
      "displayName": "Teerapong Panboonyuen",
      "photoUrl": "https://lh6.googleusercontent.com/-iKyx5xtWFk8/AAAAAAAAAAI/AAAAAAAACqY/cdrOGhiN8Pw/s64/photo.jpg",
      "userId": "10952242531985089596"
     },
     "user_tz": -420
    },
    "id": "2UGzdgpleouC",
    "outputId": "00da0de7-ad51-4e53-8d3f-ba17f07ee13f"
   },
   "outputs": [
    {
     "data": {
      "text/plain": [
       "569"
      ]
     },
     "execution_count": 12,
     "metadata": {},
     "output_type": "execute_result"
    },
    {
     "data": {
      "image/png": "[encoded data removed]",
      "text/plain": [
       "<Figure size 864x576 with 1 Axes>"
      ]
     },
     "metadata": {
      "needs_background": "light"
     },
     "output_type": "display_data"
    }
   ],
   "source": [
    "df['Province'].value_counts().plot(kind='bar')\n",
    "# df['Province'].fillna('Missing').value_counts().plot(kind='bar')\n",
    "df['Province'].isnull().sum()"
   ]
  },
  {
   "cell_type": "code",
   "execution_count": 13,
   "metadata": {
    "colab": {
     "base_uri": "https://localhost:8080/",
     "height": 503
    },
    "colab_type": "code",
    "executionInfo": {
     "elapsed": 9737,
     "status": "ok",
     "timestamp": 1560693127668,
     "user": {
      "displayName": "Teerapong Panboonyuen",
      "photoUrl": "https://lh6.googleusercontent.com/-iKyx5xtWFk8/AAAAAAAAAAI/AAAAAAAACqY/cdrOGhiN8Pw/s64/photo.jpg",
      "userId": "10952242531985089596"
     },
     "user_tz": -420
    },
    "id": "u_HXbXxieaGs",
    "outputId": "25c97a5b-84e3-4801-975e-ce7c6ef27424"
   },
   "outputs": [
    {
     "data": {
      "text/plain": [
       "0"
      ]
     },
     "execution_count": 13,
     "metadata": {},
     "output_type": "execute_result"
    },
    {
     "data": {
      "image/png": "[encoded data removed]",
      "text/plain": [
       "<Figure size 864x576 with 1 Axes>"
      ]
     },
     "metadata": {
      "needs_background": "light"
     },
     "output_type": "display_data"
    }
   ],
   "source": [
    "df['LastTransaction'].plot.hist(bins=100, alpha=1)\n",
    "df['LastTransaction'].isnull().sum()"
   ]
  },
  {
   "cell_type": "code",
   "execution_count": 14,
   "metadata": {
    "colab": {
     "base_uri": "https://localhost:8080/",
     "height": 503
    },
    "colab_type": "code",
    "executionInfo": {
     "elapsed": 9813,
     "status": "ok",
     "timestamp": 1560693128003,
     "user": {
      "displayName": "Teerapong Panboonyuen",
      "photoUrl": "https://lh6.googleusercontent.com/-iKyx5xtWFk8/AAAAAAAAAAI/AAAAAAAACqY/cdrOGhiN8Pw/s64/photo.jpg",
      "userId": "10952242531985089596"
     },
     "user_tz": -420
    },
    "id": "Np7BbusuhR4V",
    "outputId": "11bc1f81-51d7-40b7-e864-2ab47c43adcf"
   },
   "outputs": [
    {
     "data": {
      "text/plain": [
       "14"
      ]
     },
     "execution_count": 14,
     "metadata": {},
     "output_type": "execute_result"
    },
    {
     "data": {
      "image/png": "[encoded data removed]",
      "text/plain": [
       "<Figure size 864x576 with 1 Axes>"
      ]
     },
     "metadata": {
      "needs_background": "light"
     },
     "output_type": "display_data"
    }
   ],
   "source": [
    "df['BirthYear'].plot.hist(bins=100, alpha=1)\n",
    "df['BirthYear'].isnull().sum()"
   ]
  },
  {
   "cell_type": "code",
   "execution_count": null,
   "metadata": {
    "colab": {},
    "colab_type": "code",
    "id": "Uu549nVU3LAg"
   },
   "outputs": [],
   "source": []
  }
 ],
 "metadata": {
  "colab": {
   "collapsed_sections": [],
   "name": "1_PreviewData.ipynb",
   "provenance": [],
   "version": "0.3.2"
  },
  "kernelspec": {
   "display_name": "Python 3",
   "language": "python",
   "name": "python3"
  },
  "language_info": {
   "codemirror_mode": {
    "name": "ipython",
    "version": 3
   },
   "file_extension": ".py",
   "mimetype": "text/x-python",
   "name": "python",
   "nbconvert_exporter": "python",
   "pygments_lexer": "ipython3",
   "version": "3.7.6"
  }
 },
 "nbformat": 4,
 "nbformat_minor": 1
}
