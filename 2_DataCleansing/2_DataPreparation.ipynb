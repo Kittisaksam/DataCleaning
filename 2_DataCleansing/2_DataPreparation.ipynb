{
 "cells": [
  {
   "cell_type": "markdown",
   "metadata": {
    "colab_type": "text",
    "id": "WrI5uSor6k4L"
   },
   "source": [
    "# Data preparation"
   ]
  },
  {
   "cell_type": "markdown",
   "metadata": {
    "colab_type": "text",
    "id": "HWO-Dlu083j3"
   },
   "source": [
    " **Cleaning and preparing data is a critical first step in any machine learning project**"
   ]
  },
  {
   "cell_type": "markdown",
   "metadata": {
    "colab_type": "text",
    "id": "4qQKdETBmb-g"
   },
   "source": [
    "**1) Load data**"
   ]
  },
  {
   "cell_type": "code",
   "execution_count": 1,
   "metadata": {
    "colab": {},
    "colab_type": "code",
    "id": "pq2kpWFmX6nR"
   },
   "outputs": [],
   "source": [
    "import pandas as pd\n",
    "import numpy as np\n",
    "from scipy import stats\n",
    "import datetime\n",
    "\n",
    "import matplotlib.pyplot as plt\n",
    "import seaborn as sns\n",
    "%matplotlib inline\n",
    "plt.rcParams['figure.figsize'] = (12,8)"
   ]
  },
  {
   "cell_type": "code",
   "execution_count": 2,
   "metadata": {
    "colab": {},
    "colab_type": "code",
    "id": "-CMgH5TXXL28"
   },
   "outputs": [],
   "source": [
    "df = pd.read_csv('customer-churn-data_for-data-prep.csv') "
   ]
  },
  {
   "cell_type": "code",
   "execution_count": 3,
   "metadata": {
    "colab": {
     "base_uri": "https://localhost:8080/",
     "height": 221
    },
    "colab_type": "code",
    "executionInfo": {
     "elapsed": 9508,
     "status": "ok",
     "timestamp": 1560694135498,
     "user": {
      "displayName": "Teerapong Panboonyuen",
      "photoUrl": "https://lh6.googleusercontent.com/-iKyx5xtWFk8/AAAAAAAAAAI/AAAAAAAACqY/cdrOGhiN8Pw/s64/photo.jpg",
      "userId": "10952242531985089596"
     },
     "user_tz": -420
    },
    "id": "0n9UwxQP374z",
    "outputId": "c1f17120-4fcd-41fd-9029-2195203119cb"
   },
   "outputs": [
    {
     "name": "stdout",
     "output_type": "stream",
     "text": [
      "<class 'pandas.core.frame.DataFrame'>\n",
      "RangeIndex: 996 entries, 0 to 995\n",
      "Data columns (total 7 columns):\n",
      " #   Column           Non-Null Count  Dtype  \n",
      "---  ------           --------------  -----  \n",
      " 0   Gender           978 non-null    object \n",
      " 1   Payment Method   996 non-null    object \n",
      " 2   Churn            898 non-null    object \n",
      " 3   LastTransaction  996 non-null    int64  \n",
      " 4   Country          996 non-null    object \n",
      " 5   Province         427 non-null    object \n",
      " 6   BirthYear        982 non-null    float64\n",
      "dtypes: float64(1), int64(1), object(5)\n",
      "memory usage: 54.6+ KB\n"
     ]
    }
   ],
   "source": [
    "df.info()"
   ]
  },
  {
   "cell_type": "code",
   "execution_count": 4,
   "metadata": {
    "colab": {
     "base_uri": "https://localhost:8080/",
     "height": 390
    },
    "colab_type": "code",
    "executionInfo": {
     "elapsed": 9330,
     "status": "ok",
     "timestamp": 1560694135499,
     "user": {
      "displayName": "Teerapong Panboonyuen",
      "photoUrl": "https://lh6.googleusercontent.com/-iKyx5xtWFk8/AAAAAAAAAAI/AAAAAAAACqY/cdrOGhiN8Pw/s64/photo.jpg",
      "userId": "10952242531985089596"
     },
     "user_tz": -420
    },
    "id": "v600iJFErGJx",
    "outputId": "f43438da-a1b0-4802-ea71-30c079b26aad"
   },
   "outputs": [
    {
     "data": {
      "text/html": [
       "<div>\n",
       "<style scoped>\n",
       "    .dataframe tbody tr th:only-of-type {\n",
       "        vertical-align: middle;\n",
       "    }\n",
       "\n",
       "    .dataframe tbody tr th {\n",
       "        vertical-align: top;\n",
       "    }\n",
       "\n",
       "    .dataframe thead th {\n",
       "        text-align: right;\n",
       "    }\n",
       "</style>\n",
       "<table border=\"1\" class=\"dataframe\">\n",
       "  <thead>\n",
       "    <tr style=\"text-align: right;\">\n",
       "      <th></th>\n",
       "      <th>Gender</th>\n",
       "      <th>Payment Method</th>\n",
       "      <th>Churn</th>\n",
       "      <th>LastTransaction</th>\n",
       "      <th>Country</th>\n",
       "      <th>Province</th>\n",
       "      <th>BirthYear</th>\n",
       "    </tr>\n",
       "  </thead>\n",
       "  <tbody>\n",
       "    <tr>\n",
       "      <th>count</th>\n",
       "      <td>978</td>\n",
       "      <td>996</td>\n",
       "      <td>898</td>\n",
       "      <td>996.000000</td>\n",
       "      <td>996</td>\n",
       "      <td>427</td>\n",
       "      <td>982.000000</td>\n",
       "    </tr>\n",
       "    <tr>\n",
       "      <th>unique</th>\n",
       "      <td>2</td>\n",
       "      <td>3</td>\n",
       "      <td>2</td>\n",
       "      <td>NaN</td>\n",
       "      <td>1</td>\n",
       "      <td>77</td>\n",
       "      <td>NaN</td>\n",
       "    </tr>\n",
       "    <tr>\n",
       "      <th>top</th>\n",
       "      <td>male</td>\n",
       "      <td>credit card</td>\n",
       "      <td>loyal</td>\n",
       "      <td>NaN</td>\n",
       "      <td>TH</td>\n",
       "      <td>Bangkok</td>\n",
       "      <td>NaN</td>\n",
       "    </tr>\n",
       "    <tr>\n",
       "      <th>freq</th>\n",
       "      <td>534</td>\n",
       "      <td>649</td>\n",
       "      <td>576</td>\n",
       "      <td>NaN</td>\n",
       "      <td>996</td>\n",
       "      <td>128</td>\n",
       "      <td>NaN</td>\n",
       "    </tr>\n",
       "    <tr>\n",
       "      <th>mean</th>\n",
       "      <td>NaN</td>\n",
       "      <td>NaN</td>\n",
       "      <td>NaN</td>\n",
       "      <td>111.072289</td>\n",
       "      <td>NaN</td>\n",
       "      <td>NaN</td>\n",
       "      <td>1972.036660</td>\n",
       "    </tr>\n",
       "    <tr>\n",
       "      <th>std</th>\n",
       "      <td>NaN</td>\n",
       "      <td>NaN</td>\n",
       "      <td>NaN</td>\n",
       "      <td>44.956045</td>\n",
       "      <td>NaN</td>\n",
       "      <td>NaN</td>\n",
       "      <td>19.600513</td>\n",
       "    </tr>\n",
       "    <tr>\n",
       "      <th>min</th>\n",
       "      <td>NaN</td>\n",
       "      <td>NaN</td>\n",
       "      <td>NaN</td>\n",
       "      <td>1.000000</td>\n",
       "      <td>NaN</td>\n",
       "      <td>NaN</td>\n",
       "      <td>1899.000000</td>\n",
       "    </tr>\n",
       "    <tr>\n",
       "      <th>25%</th>\n",
       "      <td>NaN</td>\n",
       "      <td>NaN</td>\n",
       "      <td>NaN</td>\n",
       "      <td>77.000000</td>\n",
       "      <td>NaN</td>\n",
       "      <td>NaN</td>\n",
       "      <td>1960.000000</td>\n",
       "    </tr>\n",
       "    <tr>\n",
       "      <th>50%</th>\n",
       "      <td>NaN</td>\n",
       "      <td>NaN</td>\n",
       "      <td>NaN</td>\n",
       "      <td>110.000000</td>\n",
       "      <td>NaN</td>\n",
       "      <td>NaN</td>\n",
       "      <td>1974.000000</td>\n",
       "    </tr>\n",
       "    <tr>\n",
       "      <th>75%</th>\n",
       "      <td>NaN</td>\n",
       "      <td>NaN</td>\n",
       "      <td>NaN</td>\n",
       "      <td>145.000000</td>\n",
       "      <td>NaN</td>\n",
       "      <td>NaN</td>\n",
       "      <td>1988.000000</td>\n",
       "    </tr>\n",
       "    <tr>\n",
       "      <th>max</th>\n",
       "      <td>NaN</td>\n",
       "      <td>NaN</td>\n",
       "      <td>NaN</td>\n",
       "      <td>223.000000</td>\n",
       "      <td>NaN</td>\n",
       "      <td>NaN</td>\n",
       "      <td>2018.000000</td>\n",
       "    </tr>\n",
       "  </tbody>\n",
       "</table>\n",
       "</div>"
      ],
      "text/plain": [
       "       Gender Payment Method  Churn  LastTransaction Country Province  \\\n",
       "count     978            996    898       996.000000     996      427   \n",
       "unique      2              3      2              NaN       1       77   \n",
       "top      male    credit card  loyal              NaN      TH  Bangkok   \n",
       "freq      534            649    576              NaN     996      128   \n",
       "mean      NaN            NaN    NaN       111.072289     NaN      NaN   \n",
       "std       NaN            NaN    NaN        44.956045     NaN      NaN   \n",
       "min       NaN            NaN    NaN         1.000000     NaN      NaN   \n",
       "25%       NaN            NaN    NaN        77.000000     NaN      NaN   \n",
       "50%       NaN            NaN    NaN       110.000000     NaN      NaN   \n",
       "75%       NaN            NaN    NaN       145.000000     NaN      NaN   \n",
       "max       NaN            NaN    NaN       223.000000     NaN      NaN   \n",
       "\n",
       "          BirthYear  \n",
       "count    982.000000  \n",
       "unique          NaN  \n",
       "top             NaN  \n",
       "freq            NaN  \n",
       "mean    1972.036660  \n",
       "std       19.600513  \n",
       "min     1899.000000  \n",
       "25%     1960.000000  \n",
       "50%     1974.000000  \n",
       "75%     1988.000000  \n",
       "max     2018.000000  "
      ]
     },
     "execution_count": 4,
     "metadata": {},
     "output_type": "execute_result"
    }
   ],
   "source": [
    "df.describe(include = 'all')"
   ]
  },
  {
   "cell_type": "markdown",
   "metadata": {
    "colab_type": "text",
    "id": "7veYAMcK6o2C"
   },
   "source": [
    "**2) Drop unrelated variable**"
   ]
  },
  {
   "cell_type": "markdown",
   "metadata": {
    "colab_type": "text",
    "id": "rGbqCVv19NWg"
   },
   "source": [
    "It's a great idea to spend some time to familiarize ourselves with the columns in the dataset, to understand what each feature represents. This is important, because a poor understanding of the features could cause us to make mistakes in the data analysis and the modeling process."
   ]
  },
  {
   "cell_type": "code",
   "execution_count": 5,
   "metadata": {
    "colab": {
     "base_uri": "https://localhost:8080/",
     "height": 204
    },
    "colab_type": "code",
    "executionInfo": {
     "elapsed": 8778,
     "status": "ok",
     "timestamp": 1560694135500,
     "user": {
      "displayName": "Teerapong Panboonyuen",
      "photoUrl": "https://lh6.googleusercontent.com/-iKyx5xtWFk8/AAAAAAAAAAI/AAAAAAAACqY/cdrOGhiN8Pw/s64/photo.jpg",
      "userId": "10952242531985089596"
     },
     "user_tz": -420
    },
    "id": "kp49qDfQ6tFx",
    "outputId": "1de8700b-a507-4b9d-e893-c68943e1a37f"
   },
   "outputs": [
    {
     "data": {
      "text/html": [
       "<div>\n",
       "<style scoped>\n",
       "    .dataframe tbody tr th:only-of-type {\n",
       "        vertical-align: middle;\n",
       "    }\n",
       "\n",
       "    .dataframe tbody tr th {\n",
       "        vertical-align: top;\n",
       "    }\n",
       "\n",
       "    .dataframe thead th {\n",
       "        text-align: right;\n",
       "    }\n",
       "</style>\n",
       "<table border=\"1\" class=\"dataframe\">\n",
       "  <thead>\n",
       "    <tr style=\"text-align: right;\">\n",
       "      <th></th>\n",
       "      <th>Gender</th>\n",
       "      <th>Payment Method</th>\n",
       "      <th>Churn</th>\n",
       "      <th>LastTransaction</th>\n",
       "      <th>Country</th>\n",
       "      <th>Province</th>\n",
       "      <th>BirthYear</th>\n",
       "    </tr>\n",
       "  </thead>\n",
       "  <tbody>\n",
       "    <tr>\n",
       "      <th>0</th>\n",
       "      <td>male</td>\n",
       "      <td>credit card</td>\n",
       "      <td>loyal</td>\n",
       "      <td>1</td>\n",
       "      <td>TH</td>\n",
       "      <td>Bangkok</td>\n",
       "      <td>1899.0</td>\n",
       "    </tr>\n",
       "    <tr>\n",
       "      <th>1</th>\n",
       "      <td>female</td>\n",
       "      <td>credit card</td>\n",
       "      <td>churn</td>\n",
       "      <td>3</td>\n",
       "      <td>TH</td>\n",
       "      <td>Bangkok</td>\n",
       "      <td>2000.0</td>\n",
       "    </tr>\n",
       "    <tr>\n",
       "      <th>2</th>\n",
       "      <td>male</td>\n",
       "      <td>credit card</td>\n",
       "      <td>loyal</td>\n",
       "      <td>6</td>\n",
       "      <td>TH</td>\n",
       "      <td>Non Nam Thaeng</td>\n",
       "      <td>1980.0</td>\n",
       "    </tr>\n",
       "    <tr>\n",
       "      <th>3</th>\n",
       "      <td>female</td>\n",
       "      <td>credit card</td>\n",
       "      <td>churn</td>\n",
       "      <td>7</td>\n",
       "      <td>TH</td>\n",
       "      <td>Ang Thong</td>\n",
       "      <td>1899.0</td>\n",
       "    </tr>\n",
       "    <tr>\n",
       "      <th>4</th>\n",
       "      <td>female</td>\n",
       "      <td>credit card</td>\n",
       "      <td>churn</td>\n",
       "      <td>11</td>\n",
       "      <td>TH</td>\n",
       "      <td>Bueng Kan</td>\n",
       "      <td>1985.0</td>\n",
       "    </tr>\n",
       "  </tbody>\n",
       "</table>\n",
       "</div>"
      ],
      "text/plain": [
       "   Gender Payment Method  Churn  LastTransaction Country        Province  \\\n",
       "0    male    credit card  loyal                1      TH         Bangkok   \n",
       "1  female    credit card  churn                3      TH         Bangkok   \n",
       "2    male    credit card  loyal                6      TH  Non Nam Thaeng   \n",
       "3  female    credit card  churn                7      TH       Ang Thong   \n",
       "4  female    credit card  churn               11      TH       Bueng Kan   \n",
       "\n",
       "   BirthYear  \n",
       "0     1899.0  \n",
       "1     2000.0  \n",
       "2     1980.0  \n",
       "3     1899.0  \n",
       "4     1985.0  "
      ]
     },
     "execution_count": 5,
     "metadata": {},
     "output_type": "execute_result"
    }
   ],
   "source": [
    "df.head()"
   ]
  },
  {
   "cell_type": "code",
   "execution_count": 6,
   "metadata": {
    "colab": {},
    "colab_type": "code",
    "id": "Yd_8ft816zC3"
   },
   "outputs": [],
   "source": [
    "df = df.drop(['LastTransaction'], axis=1)"
   ]
  },
  {
   "cell_type": "code",
   "execution_count": 7,
   "metadata": {
    "colab": {
     "base_uri": "https://localhost:8080/",
     "height": 204
    },
    "colab_type": "code",
    "executionInfo": {
     "elapsed": 8422,
     "status": "ok",
     "timestamp": 1560694135504,
     "user": {
      "displayName": "Teerapong Panboonyuen",
      "photoUrl": "https://lh6.googleusercontent.com/-iKyx5xtWFk8/AAAAAAAAAAI/AAAAAAAACqY/cdrOGhiN8Pw/s64/photo.jpg",
      "userId": "10952242531985089596"
     },
     "user_tz": -420
    },
    "id": "j9RmZBe660YG",
    "outputId": "789713dd-776e-4fdf-954c-fe292f529715"
   },
   "outputs": [
    {
     "data": {
      "text/html": [
       "<div>\n",
       "<style scoped>\n",
       "    .dataframe tbody tr th:only-of-type {\n",
       "        vertical-align: middle;\n",
       "    }\n",
       "\n",
       "    .dataframe tbody tr th {\n",
       "        vertical-align: top;\n",
       "    }\n",
       "\n",
       "    .dataframe thead th {\n",
       "        text-align: right;\n",
       "    }\n",
       "</style>\n",
       "<table border=\"1\" class=\"dataframe\">\n",
       "  <thead>\n",
       "    <tr style=\"text-align: right;\">\n",
       "      <th></th>\n",
       "      <th>Gender</th>\n",
       "      <th>Payment Method</th>\n",
       "      <th>Churn</th>\n",
       "      <th>Country</th>\n",
       "      <th>Province</th>\n",
       "      <th>BirthYear</th>\n",
       "    </tr>\n",
       "  </thead>\n",
       "  <tbody>\n",
       "    <tr>\n",
       "      <th>0</th>\n",
       "      <td>male</td>\n",
       "      <td>credit card</td>\n",
       "      <td>loyal</td>\n",
       "      <td>TH</td>\n",
       "      <td>Bangkok</td>\n",
       "      <td>1899.0</td>\n",
       "    </tr>\n",
       "    <tr>\n",
       "      <th>1</th>\n",
       "      <td>female</td>\n",
       "      <td>credit card</td>\n",
       "      <td>churn</td>\n",
       "      <td>TH</td>\n",
       "      <td>Bangkok</td>\n",
       "      <td>2000.0</td>\n",
       "    </tr>\n",
       "    <tr>\n",
       "      <th>2</th>\n",
       "      <td>male</td>\n",
       "      <td>credit card</td>\n",
       "      <td>loyal</td>\n",
       "      <td>TH</td>\n",
       "      <td>Non Nam Thaeng</td>\n",
       "      <td>1980.0</td>\n",
       "    </tr>\n",
       "    <tr>\n",
       "      <th>3</th>\n",
       "      <td>female</td>\n",
       "      <td>credit card</td>\n",
       "      <td>churn</td>\n",
       "      <td>TH</td>\n",
       "      <td>Ang Thong</td>\n",
       "      <td>1899.0</td>\n",
       "    </tr>\n",
       "    <tr>\n",
       "      <th>4</th>\n",
       "      <td>female</td>\n",
       "      <td>credit card</td>\n",
       "      <td>churn</td>\n",
       "      <td>TH</td>\n",
       "      <td>Bueng Kan</td>\n",
       "      <td>1985.0</td>\n",
       "    </tr>\n",
       "  </tbody>\n",
       "</table>\n",
       "</div>"
      ],
      "text/plain": [
       "   Gender Payment Method  Churn Country        Province  BirthYear\n",
       "0    male    credit card  loyal      TH         Bangkok     1899.0\n",
       "1  female    credit card  churn      TH         Bangkok     2000.0\n",
       "2    male    credit card  loyal      TH  Non Nam Thaeng     1980.0\n",
       "3  female    credit card  churn      TH       Ang Thong     1899.0\n",
       "4  female    credit card  churn      TH       Bueng Kan     1985.0"
      ]
     },
     "execution_count": 7,
     "metadata": {},
     "output_type": "execute_result"
    }
   ],
   "source": [
    "df.head()"
   ]
  },
  {
   "cell_type": "markdown",
   "metadata": {
    "colab_type": "text",
    "id": "VGF1x75m64oF"
   },
   "source": [
    "**3.1) Drop records with missing target**"
   ]
  },
  {
   "cell_type": "markdown",
   "metadata": {
    "colab_type": "text",
    "id": "3HSupI_79jCD"
   },
   "source": [
    "Now, let's decide on the appropriate column to use as a target column for modeling"
   ]
  },
  {
   "cell_type": "code",
   "execution_count": 8,
   "metadata": {
    "colab": {
     "base_uri": "https://localhost:8080/",
     "height": 531
    },
    "colab_type": "code",
    "executionInfo": {
     "elapsed": 8295,
     "status": "ok",
     "timestamp": 1560694135963,
     "user": {
      "displayName": "Teerapong Panboonyuen",
      "photoUrl": "https://lh6.googleusercontent.com/-iKyx5xtWFk8/AAAAAAAAAAI/AAAAAAAACqY/cdrOGhiN8Pw/s64/photo.jpg",
      "userId": "10952242531985089596"
     },
     "user_tz": -420
    },
    "id": "8nZE-YejdNrW",
    "outputId": "25bcab52-0043-469d-9210-2d75221f0e02"
   },
   "outputs": [
    {
     "data": {
      "text/plain": [
       "98"
      ]
     },
     "execution_count": 8,
     "metadata": {},
     "output_type": "execute_result"
    },
    {
     "data": {
      "image/png": "[encoded data removed]",
      "text/plain": [
       "<Figure size 864x576 with 1 Axes>"
      ]
     },
     "metadata": {
      "needs_background": "light"
     },
     "output_type": "display_data"
    }
   ],
   "source": [
    "df['Churn'].fillna('Missing').value_counts().plot(kind='bar')\n",
    "df['Churn'].isnull().sum()"
   ]
  },
  {
   "cell_type": "code",
   "execution_count": 9,
   "metadata": {
    "colab": {
     "base_uri": "https://localhost:8080/",
     "height": 204
    },
    "colab_type": "code",
    "executionInfo": {
     "elapsed": 8099,
     "status": "ok",
     "timestamp": 1560694135964,
     "user": {
      "displayName": "Teerapong Panboonyuen",
      "photoUrl": "https://lh6.googleusercontent.com/-iKyx5xtWFk8/AAAAAAAAAAI/AAAAAAAACqY/cdrOGhiN8Pw/s64/photo.jpg",
      "userId": "10952242531985089596"
     },
     "user_tz": -420
    },
    "id": "n-yisjnTc9YK",
    "outputId": "b99d3564-5674-4e89-c7ce-d377811d3c2e"
   },
   "outputs": [
    {
     "data": {
      "text/html": [
       "<div>\n",
       "<style scoped>\n",
       "    .dataframe tbody tr th:only-of-type {\n",
       "        vertical-align: middle;\n",
       "    }\n",
       "\n",
       "    .dataframe tbody tr th {\n",
       "        vertical-align: top;\n",
       "    }\n",
       "\n",
       "    .dataframe thead th {\n",
       "        text-align: right;\n",
       "    }\n",
       "</style>\n",
       "<table border=\"1\" class=\"dataframe\">\n",
       "  <thead>\n",
       "    <tr style=\"text-align: right;\">\n",
       "      <th></th>\n",
       "      <th>Gender</th>\n",
       "      <th>Payment Method</th>\n",
       "      <th>Churn</th>\n",
       "      <th>Country</th>\n",
       "      <th>Province</th>\n",
       "      <th>BirthYear</th>\n",
       "    </tr>\n",
       "  </thead>\n",
       "  <tbody>\n",
       "    <tr>\n",
       "      <th>8</th>\n",
       "      <td>male</td>\n",
       "      <td>cash</td>\n",
       "      <td>NaN</td>\n",
       "      <td>TH</td>\n",
       "      <td>Chaiyaphum</td>\n",
       "      <td>1996.0</td>\n",
       "    </tr>\n",
       "    <tr>\n",
       "      <th>14</th>\n",
       "      <td>female</td>\n",
       "      <td>credit card</td>\n",
       "      <td>NaN</td>\n",
       "      <td>TH</td>\n",
       "      <td>Kalasin</td>\n",
       "      <td>1992.0</td>\n",
       "    </tr>\n",
       "    <tr>\n",
       "      <th>19</th>\n",
       "      <td>NaN</td>\n",
       "      <td>credit card</td>\n",
       "      <td>NaN</td>\n",
       "      <td>TH</td>\n",
       "      <td>Khelang Nakhon</td>\n",
       "      <td>1978.0</td>\n",
       "    </tr>\n",
       "    <tr>\n",
       "      <th>24</th>\n",
       "      <td>female</td>\n",
       "      <td>credit card</td>\n",
       "      <td>NaN</td>\n",
       "      <td>TH</td>\n",
       "      <td>Maha Sarakham</td>\n",
       "      <td>1947.0</td>\n",
       "    </tr>\n",
       "    <tr>\n",
       "      <th>26</th>\n",
       "      <td>male</td>\n",
       "      <td>credit card</td>\n",
       "      <td>NaN</td>\n",
       "      <td>TH</td>\n",
       "      <td>Nakhon Nayok</td>\n",
       "      <td>1969.0</td>\n",
       "    </tr>\n",
       "  </tbody>\n",
       "</table>\n",
       "</div>"
      ],
      "text/plain": [
       "    Gender Payment Method Churn Country        Province  BirthYear\n",
       "8     male           cash   NaN      TH      Chaiyaphum     1996.0\n",
       "14  female    credit card   NaN      TH         Kalasin     1992.0\n",
       "19     NaN    credit card   NaN      TH  Khelang Nakhon     1978.0\n",
       "24  female    credit card   NaN      TH   Maha Sarakham     1947.0\n",
       "26    male    credit card   NaN      TH    Nakhon Nayok     1969.0"
      ]
     },
     "execution_count": 9,
     "metadata": {},
     "output_type": "execute_result"
    }
   ],
   "source": [
    "df[df['Churn'].isnull()].head(5)"
   ]
  },
  {
   "cell_type": "code",
   "execution_count": 10,
   "metadata": {
    "colab": {},
    "colab_type": "code",
    "id": "kM51LlAO69Am"
   },
   "outputs": [],
   "source": [
    "df = df.dropna(axis=0, subset=['Churn'])"
   ]
  },
  {
   "cell_type": "code",
   "execution_count": 11,
   "metadata": {
    "colab": {
     "base_uri": "https://localhost:8080/",
     "height": 522
    },
    "colab_type": "code",
    "executionInfo": {
     "elapsed": 8252,
     "status": "ok",
     "timestamp": 1560694136520,
     "user": {
      "displayName": "Teerapong Panboonyuen",
      "photoUrl": "https://lh6.googleusercontent.com/-iKyx5xtWFk8/AAAAAAAAAAI/AAAAAAAACqY/cdrOGhiN8Pw/s64/photo.jpg",
      "userId": "10952242531985089596"
     },
     "user_tz": -420
    },
    "id": "wjPE2f-ShqGA",
    "outputId": "c4be7923-1b4b-4b2e-e56e-3069fe0a04a1"
   },
   "outputs": [
    {
     "data": {
      "text/plain": [
       "0"
      ]
     },
     "execution_count": 11,
     "metadata": {},
     "output_type": "execute_result"
    },
    {
     "data": {
      "image/png": "[encoded data removed]",
      "text/plain": [
       "<Figure size 864x576 with 1 Axes>"
      ]
     },
     "metadata": {
      "needs_background": "light"
     },
     "output_type": "display_data"
    }
   ],
   "source": [
    "df['Churn'].fillna('Missing').value_counts().plot(kind='bar')\n",
    "df['Churn'].isnull().sum()"
   ]
  },
  {
   "cell_type": "code",
   "execution_count": 12,
   "metadata": {
    "colab": {
     "base_uri": "https://localhost:8080/",
     "height": 49
    },
    "colab_type": "code",
    "executionInfo": {
     "elapsed": 8066,
     "status": "ok",
     "timestamp": 1560694136522,
     "user": {
      "displayName": "Teerapong Panboonyuen",
      "photoUrl": "https://lh6.googleusercontent.com/-iKyx5xtWFk8/AAAAAAAAAAI/AAAAAAAACqY/cdrOGhiN8Pw/s64/photo.jpg",
      "userId": "10952242531985089596"
     },
     "user_tz": -420
    },
    "id": "oyJQVFO76-Qn",
    "outputId": "5eb9e81c-0ed4-47ec-acbd-ea7ac8afcc49"
   },
   "outputs": [
    {
     "data": {
      "text/html": [
       "<div>\n",
       "<style scoped>\n",
       "    .dataframe tbody tr th:only-of-type {\n",
       "        vertical-align: middle;\n",
       "    }\n",
       "\n",
       "    .dataframe tbody tr th {\n",
       "        vertical-align: top;\n",
       "    }\n",
       "\n",
       "    .dataframe thead th {\n",
       "        text-align: right;\n",
       "    }\n",
       "</style>\n",
       "<table border=\"1\" class=\"dataframe\">\n",
       "  <thead>\n",
       "    <tr style=\"text-align: right;\">\n",
       "      <th></th>\n",
       "      <th>Gender</th>\n",
       "      <th>Payment Method</th>\n",
       "      <th>Churn</th>\n",
       "      <th>Country</th>\n",
       "      <th>Province</th>\n",
       "      <th>BirthYear</th>\n",
       "    </tr>\n",
       "  </thead>\n",
       "  <tbody>\n",
       "  </tbody>\n",
       "</table>\n",
       "</div>"
      ],
      "text/plain": [
       "Empty DataFrame\n",
       "Columns: [Gender, Payment Method, Churn, Country, Province, BirthYear]\n",
       "Index: []"
      ]
     },
     "execution_count": 12,
     "metadata": {},
     "output_type": "execute_result"
    }
   ],
   "source": [
    "df[df['Churn'].isnull()].head(5)"
   ]
  },
  {
   "cell_type": "code",
   "execution_count": 13,
   "metadata": {
    "colab": {
     "base_uri": "https://localhost:8080/",
     "height": 204
    },
    "colab_type": "code",
    "executionInfo": {
     "elapsed": 7873,
     "status": "ok",
     "timestamp": 1560694136523,
     "user": {
      "displayName": "Teerapong Panboonyuen",
      "photoUrl": "https://lh6.googleusercontent.com/-iKyx5xtWFk8/AAAAAAAAAAI/AAAAAAAACqY/cdrOGhiN8Pw/s64/photo.jpg",
      "userId": "10952242531985089596"
     },
     "user_tz": -420
    },
    "id": "4wciPyH_41z9",
    "outputId": "3a73301b-1149-4ec4-bc12-979d67e86016"
   },
   "outputs": [
    {
     "data": {
      "text/html": [
       "<div>\n",
       "<style scoped>\n",
       "    .dataframe tbody tr th:only-of-type {\n",
       "        vertical-align: middle;\n",
       "    }\n",
       "\n",
       "    .dataframe tbody tr th {\n",
       "        vertical-align: top;\n",
       "    }\n",
       "\n",
       "    .dataframe thead th {\n",
       "        text-align: right;\n",
       "    }\n",
       "</style>\n",
       "<table border=\"1\" class=\"dataframe\">\n",
       "  <thead>\n",
       "    <tr style=\"text-align: right;\">\n",
       "      <th></th>\n",
       "      <th>Gender</th>\n",
       "      <th>Payment Method</th>\n",
       "      <th>Churn</th>\n",
       "      <th>Country</th>\n",
       "      <th>Province</th>\n",
       "      <th>BirthYear</th>\n",
       "    </tr>\n",
       "  </thead>\n",
       "  <tbody>\n",
       "    <tr>\n",
       "      <th>0</th>\n",
       "      <td>male</td>\n",
       "      <td>credit card</td>\n",
       "      <td>loyal</td>\n",
       "      <td>TH</td>\n",
       "      <td>Bangkok</td>\n",
       "      <td>1899.0</td>\n",
       "    </tr>\n",
       "    <tr>\n",
       "      <th>1</th>\n",
       "      <td>female</td>\n",
       "      <td>credit card</td>\n",
       "      <td>churn</td>\n",
       "      <td>TH</td>\n",
       "      <td>Bangkok</td>\n",
       "      <td>2000.0</td>\n",
       "    </tr>\n",
       "    <tr>\n",
       "      <th>2</th>\n",
       "      <td>male</td>\n",
       "      <td>credit card</td>\n",
       "      <td>loyal</td>\n",
       "      <td>TH</td>\n",
       "      <td>Non Nam Thaeng</td>\n",
       "      <td>1980.0</td>\n",
       "    </tr>\n",
       "    <tr>\n",
       "      <th>3</th>\n",
       "      <td>female</td>\n",
       "      <td>credit card</td>\n",
       "      <td>churn</td>\n",
       "      <td>TH</td>\n",
       "      <td>Ang Thong</td>\n",
       "      <td>1899.0</td>\n",
       "    </tr>\n",
       "    <tr>\n",
       "      <th>4</th>\n",
       "      <td>female</td>\n",
       "      <td>credit card</td>\n",
       "      <td>churn</td>\n",
       "      <td>TH</td>\n",
       "      <td>Bueng Kan</td>\n",
       "      <td>1985.0</td>\n",
       "    </tr>\n",
       "  </tbody>\n",
       "</table>\n",
       "</div>"
      ],
      "text/plain": [
       "   Gender Payment Method  Churn Country        Province  BirthYear\n",
       "0    male    credit card  loyal      TH         Bangkok     1899.0\n",
       "1  female    credit card  churn      TH         Bangkok     2000.0\n",
       "2    male    credit card  loyal      TH  Non Nam Thaeng     1980.0\n",
       "3  female    credit card  churn      TH       Ang Thong     1899.0\n",
       "4  female    credit card  churn      TH       Bueng Kan     1985.0"
      ]
     },
     "execution_count": 13,
     "metadata": {},
     "output_type": "execute_result"
    }
   ],
   "source": [
    "df.head()"
   ]
  },
  {
   "cell_type": "markdown",
   "metadata": {
    "colab_type": "text",
    "id": "qqObWDXe7FMR"
   },
   "source": [
    "**3.2) Drop records with missing > 50%**"
   ]
  },
  {
   "cell_type": "code",
   "execution_count": 14,
   "metadata": {
    "colab": {
     "base_uri": "https://localhost:8080/",
     "height": 34
    },
    "colab_type": "code",
    "executionInfo": {
     "elapsed": 7438,
     "status": "ok",
     "timestamp": 1560694136525,
     "user": {
      "displayName": "Teerapong Panboonyuen",
      "photoUrl": "https://lh6.googleusercontent.com/-iKyx5xtWFk8/AAAAAAAAAAI/AAAAAAAACqY/cdrOGhiN8Pw/s64/photo.jpg",
      "userId": "10952242531985089596"
     },
     "user_tz": -420
    },
    "id": "GCdTjIev6SCW",
    "outputId": "0bf9bf80-da88-4e6e-99c4-cd95d3d95d50"
   },
   "outputs": [
    {
     "data": {
      "text/plain": [
       "898"
      ]
     },
     "execution_count": 14,
     "metadata": {},
     "output_type": "execute_result"
    }
   ],
   "source": [
    "df.shape[0]"
   ]
  },
  {
   "cell_type": "code",
   "execution_count": 15,
   "metadata": {
    "colab": {
     "base_uri": "https://localhost:8080/",
     "height": 507
    },
    "colab_type": "code",
    "executionInfo": {
     "elapsed": 8326,
     "status": "ok",
     "timestamp": 1560694137634,
     "user": {
      "displayName": "Teerapong Panboonyuen",
      "photoUrl": "https://lh6.googleusercontent.com/-iKyx5xtWFk8/AAAAAAAAAAI/AAAAAAAACqY/cdrOGhiN8Pw/s64/photo.jpg",
      "userId": "10952242531985089596"
     },
     "user_tz": -420
    },
    "id": "Cc7s_IwadooY",
    "outputId": "3a225062-72dd-45ef-dae6-6782fdb199c3"
   },
   "outputs": [
    {
     "name": "stdout",
     "output_type": "stream",
     "text": [
      "520\n",
      "0.579064587973274\n"
     ]
    },
    {
     "data": {
      "image/png": "[encoded data removed]",
      "text/plain": [
       "<Figure size 864x576 with 1 Axes>"
      ]
     },
     "metadata": {},
     "output_type": "display_data"
    }
   ],
   "source": [
    "df['Province'].fillna('Missing').value_counts().plot(kind='pie')\n",
    "print( df['Province'].isnull().sum() )\n",
    "print( float(df['Province'].isnull().sum()) / df.shape[0] )"
   ]
  },
  {
   "cell_type": "code",
   "execution_count": 16,
   "metadata": {
    "colab": {
     "base_uri": "https://localhost:8080/",
     "height": 204
    },
    "colab_type": "code",
    "executionInfo": {
     "elapsed": 8091,
     "status": "ok",
     "timestamp": 1560694137636,
     "user": {
      "displayName": "Teerapong Panboonyuen",
      "photoUrl": "https://lh6.googleusercontent.com/-iKyx5xtWFk8/AAAAAAAAAAI/AAAAAAAACqY/cdrOGhiN8Pw/s64/photo.jpg",
      "userId": "10952242531985089596"
     },
     "user_tz": -420
    },
    "id": "4SS7uAudh4oC",
    "outputId": "3c046533-38ee-42a0-92d2-7b6959a25588"
   },
   "outputs": [
    {
     "data": {
      "text/html": [
       "<div>\n",
       "<style scoped>\n",
       "    .dataframe tbody tr th:only-of-type {\n",
       "        vertical-align: middle;\n",
       "    }\n",
       "\n",
       "    .dataframe tbody tr th {\n",
       "        vertical-align: top;\n",
       "    }\n",
       "\n",
       "    .dataframe thead th {\n",
       "        text-align: right;\n",
       "    }\n",
       "</style>\n",
       "<table border=\"1\" class=\"dataframe\">\n",
       "  <thead>\n",
       "    <tr style=\"text-align: right;\">\n",
       "      <th></th>\n",
       "      <th>Gender</th>\n",
       "      <th>Payment Method</th>\n",
       "      <th>Churn</th>\n",
       "      <th>Country</th>\n",
       "      <th>Province</th>\n",
       "      <th>BirthYear</th>\n",
       "    </tr>\n",
       "  </thead>\n",
       "  <tbody>\n",
       "    <tr>\n",
       "      <th>427</th>\n",
       "      <td>male</td>\n",
       "      <td>credit card</td>\n",
       "      <td>loyal</td>\n",
       "      <td>TH</td>\n",
       "      <td>NaN</td>\n",
       "      <td>1996.0</td>\n",
       "    </tr>\n",
       "    <tr>\n",
       "      <th>428</th>\n",
       "      <td>male</td>\n",
       "      <td>credit card</td>\n",
       "      <td>loyal</td>\n",
       "      <td>TH</td>\n",
       "      <td>NaN</td>\n",
       "      <td>1978.0</td>\n",
       "    </tr>\n",
       "    <tr>\n",
       "      <th>429</th>\n",
       "      <td>male</td>\n",
       "      <td>credit card</td>\n",
       "      <td>loyal</td>\n",
       "      <td>TH</td>\n",
       "      <td>NaN</td>\n",
       "      <td>1938.0</td>\n",
       "    </tr>\n",
       "    <tr>\n",
       "      <th>431</th>\n",
       "      <td>female</td>\n",
       "      <td>credit card</td>\n",
       "      <td>loyal</td>\n",
       "      <td>TH</td>\n",
       "      <td>NaN</td>\n",
       "      <td>1967.0</td>\n",
       "    </tr>\n",
       "    <tr>\n",
       "      <th>432</th>\n",
       "      <td>female</td>\n",
       "      <td>cash</td>\n",
       "      <td>churn</td>\n",
       "      <td>TH</td>\n",
       "      <td>NaN</td>\n",
       "      <td>1975.0</td>\n",
       "    </tr>\n",
       "  </tbody>\n",
       "</table>\n",
       "</div>"
      ],
      "text/plain": [
       "     Gender Payment Method  Churn Country Province  BirthYear\n",
       "427    male    credit card  loyal      TH      NaN     1996.0\n",
       "428    male    credit card  loyal      TH      NaN     1978.0\n",
       "429    male    credit card  loyal      TH      NaN     1938.0\n",
       "431  female    credit card  loyal      TH      NaN     1967.0\n",
       "432  female           cash  churn      TH      NaN     1975.0"
      ]
     },
     "execution_count": 16,
     "metadata": {},
     "output_type": "execute_result"
    }
   ],
   "source": [
    "df[df['Province'].isnull()].head(5)"
   ]
  },
  {
   "cell_type": "code",
   "execution_count": 17,
   "metadata": {
    "colab": {},
    "colab_type": "code",
    "id": "VmD112GPdrei"
   },
   "outputs": [],
   "source": [
    "df = df.drop(['Province'], axis=1)"
   ]
  },
  {
   "cell_type": "code",
   "execution_count": 18,
   "metadata": {
    "colab": {
     "base_uri": "https://localhost:8080/",
     "height": 204
    },
    "colab_type": "code",
    "executionInfo": {
     "elapsed": 7688,
     "status": "ok",
     "timestamp": 1560694137642,
     "user": {
      "displayName": "Teerapong Panboonyuen",
      "photoUrl": "https://lh6.googleusercontent.com/-iKyx5xtWFk8/AAAAAAAAAAI/AAAAAAAACqY/cdrOGhiN8Pw/s64/photo.jpg",
      "userId": "10952242531985089596"
     },
     "user_tz": -420
    },
    "id": "43CGbY_K7JiS",
    "outputId": "04b2adb7-fd7d-47d4-e9ce-ac5e84396ea5"
   },
   "outputs": [
    {
     "data": {
      "text/html": [
       "<div>\n",
       "<style scoped>\n",
       "    .dataframe tbody tr th:only-of-type {\n",
       "        vertical-align: middle;\n",
       "    }\n",
       "\n",
       "    .dataframe tbody tr th {\n",
       "        vertical-align: top;\n",
       "    }\n",
       "\n",
       "    .dataframe thead th {\n",
       "        text-align: right;\n",
       "    }\n",
       "</style>\n",
       "<table border=\"1\" class=\"dataframe\">\n",
       "  <thead>\n",
       "    <tr style=\"text-align: right;\">\n",
       "      <th></th>\n",
       "      <th>Gender</th>\n",
       "      <th>Payment Method</th>\n",
       "      <th>Churn</th>\n",
       "      <th>Country</th>\n",
       "      <th>BirthYear</th>\n",
       "    </tr>\n",
       "  </thead>\n",
       "  <tbody>\n",
       "    <tr>\n",
       "      <th>0</th>\n",
       "      <td>male</td>\n",
       "      <td>credit card</td>\n",
       "      <td>loyal</td>\n",
       "      <td>TH</td>\n",
       "      <td>1899.0</td>\n",
       "    </tr>\n",
       "    <tr>\n",
       "      <th>1</th>\n",
       "      <td>female</td>\n",
       "      <td>credit card</td>\n",
       "      <td>churn</td>\n",
       "      <td>TH</td>\n",
       "      <td>2000.0</td>\n",
       "    </tr>\n",
       "    <tr>\n",
       "      <th>2</th>\n",
       "      <td>male</td>\n",
       "      <td>credit card</td>\n",
       "      <td>loyal</td>\n",
       "      <td>TH</td>\n",
       "      <td>1980.0</td>\n",
       "    </tr>\n",
       "    <tr>\n",
       "      <th>3</th>\n",
       "      <td>female</td>\n",
       "      <td>credit card</td>\n",
       "      <td>churn</td>\n",
       "      <td>TH</td>\n",
       "      <td>1899.0</td>\n",
       "    </tr>\n",
       "    <tr>\n",
       "      <th>4</th>\n",
       "      <td>female</td>\n",
       "      <td>credit card</td>\n",
       "      <td>churn</td>\n",
       "      <td>TH</td>\n",
       "      <td>1985.0</td>\n",
       "    </tr>\n",
       "  </tbody>\n",
       "</table>\n",
       "</div>"
      ],
      "text/plain": [
       "   Gender Payment Method  Churn Country  BirthYear\n",
       "0    male    credit card  loyal      TH     1899.0\n",
       "1  female    credit card  churn      TH     2000.0\n",
       "2    male    credit card  loyal      TH     1980.0\n",
       "3  female    credit card  churn      TH     1899.0\n",
       "4  female    credit card  churn      TH     1985.0"
      ]
     },
     "execution_count": 18,
     "metadata": {},
     "output_type": "execute_result"
    }
   ],
   "source": [
    "df.head()"
   ]
  },
  {
   "cell_type": "markdown",
   "metadata": {
    "colab_type": "text",
    "id": "KJtJ0ne86_-q"
   },
   "source": [
    "**4) Drop single value inputs**"
   ]
  },
  {
   "cell_type": "markdown",
   "metadata": {
    "colab_type": "text",
    "id": "gfIcWl-j9r-c"
   },
   "source": [
    "To wrap up this section, let's look for any columns that contain only one unique value and remove them. These columns won't be useful for the model since they don't add any information to each loan application. In addition, removing these columns will reduce the number of columns."
   ]
  },
  {
   "cell_type": "code",
   "execution_count": 19,
   "metadata": {
    "colab": {
     "base_uri": "https://localhost:8080/",
     "height": 507
    },
    "colab_type": "code",
    "executionInfo": {
     "elapsed": 7555,
     "status": "ok",
     "timestamp": 1560694138149,
     "user": {
      "displayName": "Teerapong Panboonyuen",
      "photoUrl": "https://lh6.googleusercontent.com/-iKyx5xtWFk8/AAAAAAAAAAI/AAAAAAAACqY/cdrOGhiN8Pw/s64/photo.jpg",
      "userId": "10952242531985089596"
     },
     "user_tz": -420
    },
    "id": "FwIfQQoFbvq0",
    "outputId": "44d1a4b8-39b4-40cf-c82b-9497f353de31"
   },
   "outputs": [
    {
     "data": {
      "text/plain": [
       "<matplotlib.axes._subplots.AxesSubplot at 0x1d2acf6e348>"
      ]
     },
     "execution_count": 19,
     "metadata": {},
     "output_type": "execute_result"
    },
    {
     "data": {
      "image/png": "[encoded data removed]",
      "text/plain": [
       "<Figure size 864x576 with 1 Axes>"
      ]
     },
     "metadata": {
      "needs_background": "light"
     },
     "output_type": "display_data"
    }
   ],
   "source": [
    "df['Country'].value_counts().plot(kind='bar')"
   ]
  },
  {
   "cell_type": "code",
   "execution_count": 20,
   "metadata": {
    "colab": {
     "base_uri": "https://localhost:8080/",
     "height": 204
    },
    "colab_type": "code",
    "executionInfo": {
     "elapsed": 7340,
     "status": "ok",
     "timestamp": 1560694138151,
     "user": {
      "displayName": "Teerapong Panboonyuen",
      "photoUrl": "https://lh6.googleusercontent.com/-iKyx5xtWFk8/AAAAAAAAAAI/AAAAAAAACqY/cdrOGhiN8Pw/s64/photo.jpg",
      "userId": "10952242531985089596"
     },
     "user_tz": -420
    },
    "id": "ZPjQYxI67CP6",
    "outputId": "80737381-870f-48e5-ba9f-d9dd602ab075"
   },
   "outputs": [
    {
     "data": {
      "text/html": [
       "<div>\n",
       "<style scoped>\n",
       "    .dataframe tbody tr th:only-of-type {\n",
       "        vertical-align: middle;\n",
       "    }\n",
       "\n",
       "    .dataframe tbody tr th {\n",
       "        vertical-align: top;\n",
       "    }\n",
       "\n",
       "    .dataframe thead th {\n",
       "        text-align: right;\n",
       "    }\n",
       "</style>\n",
       "<table border=\"1\" class=\"dataframe\">\n",
       "  <thead>\n",
       "    <tr style=\"text-align: right;\">\n",
       "      <th></th>\n",
       "      <th>Gender</th>\n",
       "      <th>Payment Method</th>\n",
       "      <th>Churn</th>\n",
       "      <th>Country</th>\n",
       "      <th>BirthYear</th>\n",
       "    </tr>\n",
       "  </thead>\n",
       "  <tbody>\n",
       "    <tr>\n",
       "      <th>0</th>\n",
       "      <td>male</td>\n",
       "      <td>credit card</td>\n",
       "      <td>loyal</td>\n",
       "      <td>TH</td>\n",
       "      <td>1899.0</td>\n",
       "    </tr>\n",
       "    <tr>\n",
       "      <th>1</th>\n",
       "      <td>female</td>\n",
       "      <td>credit card</td>\n",
       "      <td>churn</td>\n",
       "      <td>TH</td>\n",
       "      <td>2000.0</td>\n",
       "    </tr>\n",
       "    <tr>\n",
       "      <th>2</th>\n",
       "      <td>male</td>\n",
       "      <td>credit card</td>\n",
       "      <td>loyal</td>\n",
       "      <td>TH</td>\n",
       "      <td>1980.0</td>\n",
       "    </tr>\n",
       "    <tr>\n",
       "      <th>3</th>\n",
       "      <td>female</td>\n",
       "      <td>credit card</td>\n",
       "      <td>churn</td>\n",
       "      <td>TH</td>\n",
       "      <td>1899.0</td>\n",
       "    </tr>\n",
       "    <tr>\n",
       "      <th>4</th>\n",
       "      <td>female</td>\n",
       "      <td>credit card</td>\n",
       "      <td>churn</td>\n",
       "      <td>TH</td>\n",
       "      <td>1985.0</td>\n",
       "    </tr>\n",
       "  </tbody>\n",
       "</table>\n",
       "</div>"
      ],
      "text/plain": [
       "   Gender Payment Method  Churn Country  BirthYear\n",
       "0    male    credit card  loyal      TH     1899.0\n",
       "1  female    credit card  churn      TH     2000.0\n",
       "2    male    credit card  loyal      TH     1980.0\n",
       "3  female    credit card  churn      TH     1899.0\n",
       "4  female    credit card  churn      TH     1985.0"
      ]
     },
     "execution_count": 20,
     "metadata": {},
     "output_type": "execute_result"
    }
   ],
   "source": [
    "df.head(5)"
   ]
  },
  {
   "cell_type": "code",
   "execution_count": 21,
   "metadata": {
    "colab": {},
    "colab_type": "code",
    "id": "L66saOgV7C1A"
   },
   "outputs": [],
   "source": [
    "df = df.drop(['Country'], axis=1)"
   ]
  },
  {
   "cell_type": "code",
   "execution_count": 22,
   "metadata": {
    "colab": {
     "base_uri": "https://localhost:8080/",
     "height": 204
    },
    "colab_type": "code",
    "executionInfo": {
     "elapsed": 6944,
     "status": "ok",
     "timestamp": 1560694138156,
     "user": {
      "displayName": "Teerapong Panboonyuen",
      "photoUrl": "https://lh6.googleusercontent.com/-iKyx5xtWFk8/AAAAAAAAAAI/AAAAAAAACqY/cdrOGhiN8Pw/s64/photo.jpg",
      "userId": "10952242531985089596"
     },
     "user_tz": -420
    },
    "id": "uJT1LzQMiEf2",
    "outputId": "295d8a72-d2b2-4bac-d28e-b612da5de28c"
   },
   "outputs": [
    {
     "data": {
      "text/html": [
       "<div>\n",
       "<style scoped>\n",
       "    .dataframe tbody tr th:only-of-type {\n",
       "        vertical-align: middle;\n",
       "    }\n",
       "\n",
       "    .dataframe tbody tr th {\n",
       "        vertical-align: top;\n",
       "    }\n",
       "\n",
       "    .dataframe thead th {\n",
       "        text-align: right;\n",
       "    }\n",
       "</style>\n",
       "<table border=\"1\" class=\"dataframe\">\n",
       "  <thead>\n",
       "    <tr style=\"text-align: right;\">\n",
       "      <th></th>\n",
       "      <th>Gender</th>\n",
       "      <th>Payment Method</th>\n",
       "      <th>Churn</th>\n",
       "      <th>BirthYear</th>\n",
       "    </tr>\n",
       "  </thead>\n",
       "  <tbody>\n",
       "    <tr>\n",
       "      <th>0</th>\n",
       "      <td>male</td>\n",
       "      <td>credit card</td>\n",
       "      <td>loyal</td>\n",
       "      <td>1899.0</td>\n",
       "    </tr>\n",
       "    <tr>\n",
       "      <th>1</th>\n",
       "      <td>female</td>\n",
       "      <td>credit card</td>\n",
       "      <td>churn</td>\n",
       "      <td>2000.0</td>\n",
       "    </tr>\n",
       "    <tr>\n",
       "      <th>2</th>\n",
       "      <td>male</td>\n",
       "      <td>credit card</td>\n",
       "      <td>loyal</td>\n",
       "      <td>1980.0</td>\n",
       "    </tr>\n",
       "    <tr>\n",
       "      <th>3</th>\n",
       "      <td>female</td>\n",
       "      <td>credit card</td>\n",
       "      <td>churn</td>\n",
       "      <td>1899.0</td>\n",
       "    </tr>\n",
       "    <tr>\n",
       "      <th>4</th>\n",
       "      <td>female</td>\n",
       "      <td>credit card</td>\n",
       "      <td>churn</td>\n",
       "      <td>1985.0</td>\n",
       "    </tr>\n",
       "  </tbody>\n",
       "</table>\n",
       "</div>"
      ],
      "text/plain": [
       "   Gender Payment Method  Churn  BirthYear\n",
       "0    male    credit card  loyal     1899.0\n",
       "1  female    credit card  churn     2000.0\n",
       "2    male    credit card  loyal     1980.0\n",
       "3  female    credit card  churn     1899.0\n",
       "4  female    credit card  churn     1985.0"
      ]
     },
     "execution_count": 22,
     "metadata": {},
     "output_type": "execute_result"
    }
   ],
   "source": [
    "df.head(5)"
   ]
  },
  {
   "cell_type": "markdown",
   "metadata": {
    "colab_type": "text",
    "id": "kAzbfqj37HfU"
   },
   "source": [
    "**5) Impute missing values**"
   ]
  },
  {
   "cell_type": "markdown",
   "metadata": {
    "colab_type": "text",
    "id": "f_oqNX6H90yg"
   },
   "source": [
    "We need to handle missing values and categorical features before feeding the data into a machine learning algorithm, because the mathematics underlying most machine learning models assumes that the data is numerical and contains no missing values. To reinforce this requirement, scikit-learn will return an error if you try to train a model using data that contain missing values or non-numeric values when working with models like linear regression and logistic regression."
   ]
  },
  {
   "cell_type": "markdown",
   "metadata": {
    "colab_type": "text",
    "id": "OxljEgXN7KYE"
   },
   "source": [
    ">5.1) Numeric variable (mean)"
   ]
  },
  {
   "cell_type": "markdown",
   "metadata": {
    "colab_type": "text",
    "id": "Pp2_7zkz-OJM"
   },
   "source": [
    ">Let's compute the number of missing values and determine how to handle them.\n",
    "\n",
    "\n",
    "\n",
    "\n"
   ]
  },
  {
   "cell_type": "code",
   "execution_count": 23,
   "metadata": {
    "colab": {
     "base_uri": "https://localhost:8080/",
     "height": 102
    },
    "colab_type": "code",
    "executionInfo": {
     "elapsed": 5902,
     "status": "ok",
     "timestamp": 1560694138156,
     "user": {
      "displayName": "Teerapong Panboonyuen",
      "photoUrl": "https://lh6.googleusercontent.com/-iKyx5xtWFk8/AAAAAAAAAAI/AAAAAAAACqY/cdrOGhiN8Pw/s64/photo.jpg",
      "userId": "10952242531985089596"
     },
     "user_tz": -420
    },
    "id": "d1nIa1r47NP_",
    "outputId": "7922e967-4e17-4131-f02c-d361068d0f8f"
   },
   "outputs": [
    {
     "data": {
      "text/plain": [
       "Gender            16\n",
       "Payment Method     0\n",
       "Churn              0\n",
       "BirthYear         13\n",
       "dtype: int64"
      ]
     },
     "execution_count": 23,
     "metadata": {},
     "output_type": "execute_result"
    }
   ],
   "source": [
    "df.isnull().sum()"
   ]
  },
  {
   "cell_type": "code",
   "execution_count": 24,
   "metadata": {
    "colab": {
     "base_uri": "https://localhost:8080/",
     "height": 170
    },
    "colab_type": "code",
    "executionInfo": {
     "elapsed": 5721,
     "status": "ok",
     "timestamp": 1560694138159,
     "user": {
      "displayName": "Teerapong Panboonyuen",
      "photoUrl": "https://lh6.googleusercontent.com/-iKyx5xtWFk8/AAAAAAAAAAI/AAAAAAAACqY/cdrOGhiN8Pw/s64/photo.jpg",
      "userId": "10952242531985089596"
     },
     "user_tz": -420
    },
    "id": "ilmr3obt7VGA",
    "outputId": "70c6a485-01b3-4a19-cb4c-1afcddaaadf7"
   },
   "outputs": [
    {
     "name": "stdout",
     "output_type": "stream",
     "text": [
      "<class 'pandas.core.frame.DataFrame'>\n",
      "Int64Index: 898 entries, 0 to 995\n",
      "Data columns (total 4 columns):\n",
      " #   Column          Non-Null Count  Dtype  \n",
      "---  ------          --------------  -----  \n",
      " 0   Gender          882 non-null    object \n",
      " 1   Payment Method  898 non-null    object \n",
      " 2   Churn           898 non-null    object \n",
      " 3   BirthYear       885 non-null    float64\n",
      "dtypes: float64(1), object(3)\n",
      "memory usage: 35.1+ KB\n"
     ]
    }
   ],
   "source": [
    "df.info()"
   ]
  },
  {
   "cell_type": "code",
   "execution_count": 25,
   "metadata": {
    "colab": {
     "base_uri": "https://localhost:8080/",
     "height": 204
    },
    "colab_type": "code",
    "executionInfo": {
     "elapsed": 5530,
     "status": "ok",
     "timestamp": 1560694138160,
     "user": {
      "displayName": "Teerapong Panboonyuen",
      "photoUrl": "https://lh6.googleusercontent.com/-iKyx5xtWFk8/AAAAAAAAAAI/AAAAAAAACqY/cdrOGhiN8Pw/s64/photo.jpg",
      "userId": "10952242531985089596"
     },
     "user_tz": -420
    },
    "id": "kCEB53zYiTVb",
    "outputId": "0d39ae95-82cf-4436-e372-0bc92d9c557d"
   },
   "outputs": [
    {
     "data": {
      "text/html": [
       "<div>\n",
       "<style scoped>\n",
       "    .dataframe tbody tr th:only-of-type {\n",
       "        vertical-align: middle;\n",
       "    }\n",
       "\n",
       "    .dataframe tbody tr th {\n",
       "        vertical-align: top;\n",
       "    }\n",
       "\n",
       "    .dataframe thead th {\n",
       "        text-align: right;\n",
       "    }\n",
       "</style>\n",
       "<table border=\"1\" class=\"dataframe\">\n",
       "  <thead>\n",
       "    <tr style=\"text-align: right;\">\n",
       "      <th></th>\n",
       "      <th>Gender</th>\n",
       "      <th>Payment Method</th>\n",
       "      <th>Churn</th>\n",
       "      <th>BirthYear</th>\n",
       "    </tr>\n",
       "  </thead>\n",
       "  <tbody>\n",
       "    <tr>\n",
       "      <th>113</th>\n",
       "      <td>female</td>\n",
       "      <td>credit card</td>\n",
       "      <td>loyal</td>\n",
       "      <td>NaN</td>\n",
       "    </tr>\n",
       "    <tr>\n",
       "      <th>114</th>\n",
       "      <td>NaN</td>\n",
       "      <td>cash</td>\n",
       "      <td>loyal</td>\n",
       "      <td>NaN</td>\n",
       "    </tr>\n",
       "    <tr>\n",
       "      <th>115</th>\n",
       "      <td>male</td>\n",
       "      <td>credit card</td>\n",
       "      <td>loyal</td>\n",
       "      <td>NaN</td>\n",
       "    </tr>\n",
       "    <tr>\n",
       "      <th>116</th>\n",
       "      <td>female</td>\n",
       "      <td>credit card</td>\n",
       "      <td>loyal</td>\n",
       "      <td>NaN</td>\n",
       "    </tr>\n",
       "    <tr>\n",
       "      <th>118</th>\n",
       "      <td>male</td>\n",
       "      <td>cash</td>\n",
       "      <td>loyal</td>\n",
       "      <td>NaN</td>\n",
       "    </tr>\n",
       "  </tbody>\n",
       "</table>\n",
       "</div>"
      ],
      "text/plain": [
       "     Gender Payment Method  Churn  BirthYear\n",
       "113  female    credit card  loyal        NaN\n",
       "114     NaN           cash  loyal        NaN\n",
       "115    male    credit card  loyal        NaN\n",
       "116  female    credit card  loyal        NaN\n",
       "118    male           cash  loyal        NaN"
      ]
     },
     "execution_count": 25,
     "metadata": {},
     "output_type": "execute_result"
    }
   ],
   "source": [
    "df[df['BirthYear'].isnull()].head(5)"
   ]
  },
  {
   "cell_type": "code",
   "execution_count": 26,
   "metadata": {
    "colab": {
     "base_uri": "https://localhost:8080/",
     "height": 34
    },
    "colab_type": "code",
    "executionInfo": {
     "elapsed": 5336,
     "status": "ok",
     "timestamp": 1560694138161,
     "user": {
      "displayName": "Teerapong Panboonyuen",
      "photoUrl": "https://lh6.googleusercontent.com/-iKyx5xtWFk8/AAAAAAAAAAI/AAAAAAAACqY/cdrOGhiN8Pw/s64/photo.jpg",
      "userId": "10952242531985089596"
     },
     "user_tz": -420
    },
    "id": "X9ocZhnCiXGw",
    "outputId": "567d4ad4-8563-45ed-9c14-360a74d5e8db"
   },
   "outputs": [
    {
     "name": "stdout",
     "output_type": "stream",
     "text": [
      "1972\n"
     ]
    }
   ],
   "source": [
    "mean = round(df['BirthYear'].mean())\n",
    "print(mean)"
   ]
  },
  {
   "cell_type": "code",
   "execution_count": 27,
   "metadata": {
    "colab": {},
    "colab_type": "code",
    "id": "bdB6NnHBifeJ"
   },
   "outputs": [],
   "source": [
    "df['BirthYear'] = df['BirthYear'].fillna(mean)"
   ]
  },
  {
   "cell_type": "code",
   "execution_count": 28,
   "metadata": {
    "colab": {
     "base_uri": "https://localhost:8080/",
     "height": 49
    },
    "colab_type": "code",
    "executionInfo": {
     "elapsed": 4962,
     "status": "ok",
     "timestamp": 1560694138166,
     "user": {
      "displayName": "Teerapong Panboonyuen",
      "photoUrl": "https://lh6.googleusercontent.com/-iKyx5xtWFk8/AAAAAAAAAAI/AAAAAAAACqY/cdrOGhiN8Pw/s64/photo.jpg",
      "userId": "10952242531985089596"
     },
     "user_tz": -420
    },
    "id": "i_5LoPG9iXY5",
    "outputId": "b0e1e65f-5c34-4b9e-86d1-41a515725071"
   },
   "outputs": [
    {
     "data": {
      "text/html": [
       "<div>\n",
       "<style scoped>\n",
       "    .dataframe tbody tr th:only-of-type {\n",
       "        vertical-align: middle;\n",
       "    }\n",
       "\n",
       "    .dataframe tbody tr th {\n",
       "        vertical-align: top;\n",
       "    }\n",
       "\n",
       "    .dataframe thead th {\n",
       "        text-align: right;\n",
       "    }\n",
       "</style>\n",
       "<table border=\"1\" class=\"dataframe\">\n",
       "  <thead>\n",
       "    <tr style=\"text-align: right;\">\n",
       "      <th></th>\n",
       "      <th>Gender</th>\n",
       "      <th>Payment Method</th>\n",
       "      <th>Churn</th>\n",
       "      <th>BirthYear</th>\n",
       "    </tr>\n",
       "  </thead>\n",
       "  <tbody>\n",
       "  </tbody>\n",
       "</table>\n",
       "</div>"
      ],
      "text/plain": [
       "Empty DataFrame\n",
       "Columns: [Gender, Payment Method, Churn, BirthYear]\n",
       "Index: []"
      ]
     },
     "execution_count": 28,
     "metadata": {},
     "output_type": "execute_result"
    }
   ],
   "source": [
    "#No missing records\n",
    "df[df['BirthYear'].isnull()].head(5)"
   ]
  },
  {
   "cell_type": "markdown",
   "metadata": {
    "colab_type": "text",
    "id": "HSPCkR057Qdv"
   },
   "source": [
    ">5.2) Categorical variable (mode)"
   ]
  },
  {
   "cell_type": "code",
   "execution_count": 29,
   "metadata": {
    "colab": {
     "base_uri": "https://localhost:8080/",
     "height": 531
    },
    "colab_type": "code",
    "executionInfo": {
     "elapsed": 4580,
     "status": "ok",
     "timestamp": 1560694138168,
     "user": {
      "displayName": "Teerapong Panboonyuen",
      "photoUrl": "https://lh6.googleusercontent.com/-iKyx5xtWFk8/AAAAAAAAAAI/AAAAAAAACqY/cdrOGhiN8Pw/s64/photo.jpg",
      "userId": "10952242531985089596"
     },
     "user_tz": -420
    },
    "id": "_NWEUyT8iVuM",
    "outputId": "86b14f22-21f0-40f6-dcfd-5e9fcbb8ddc7"
   },
   "outputs": [
    {
     "data": {
      "text/plain": [
       "<matplotlib.axes._subplots.AxesSubplot at 0x1d2acd70ec8>"
      ]
     },
     "execution_count": 29,
     "metadata": {},
     "output_type": "execute_result"
    },
    {
     "data": {
      "image/png": "[encoded data removed]",
      "text/plain": [
       "<Figure size 864x576 with 1 Axes>"
      ]
     },
     "metadata": {
      "needs_background": "light"
     },
     "output_type": "display_data"
    }
   ],
   "source": [
    "df['Gender'].fillna('Missing').value_counts().plot(kind='bar')"
   ]
  },
  {
   "cell_type": "code",
   "execution_count": 30,
   "metadata": {
    "colab": {
     "base_uri": "https://localhost:8080/",
     "height": 204
    },
    "colab_type": "code",
    "executionInfo": {
     "elapsed": 4386,
     "status": "ok",
     "timestamp": 1560694138169,
     "user": {
      "displayName": "Teerapong Panboonyuen",
      "photoUrl": "https://lh6.googleusercontent.com/-iKyx5xtWFk8/AAAAAAAAAAI/AAAAAAAACqY/cdrOGhiN8Pw/s64/photo.jpg",
      "userId": "10952242531985089596"
     },
     "user_tz": -420
    },
    "id": "sz8_HThu77ro",
    "outputId": "33eb244d-1239-4cad-f07c-582585493896"
   },
   "outputs": [
    {
     "data": {
      "text/html": [
       "<div>\n",
       "<style scoped>\n",
       "    .dataframe tbody tr th:only-of-type {\n",
       "        vertical-align: middle;\n",
       "    }\n",
       "\n",
       "    .dataframe tbody tr th {\n",
       "        vertical-align: top;\n",
       "    }\n",
       "\n",
       "    .dataframe thead th {\n",
       "        text-align: right;\n",
       "    }\n",
       "</style>\n",
       "<table border=\"1\" class=\"dataframe\">\n",
       "  <thead>\n",
       "    <tr style=\"text-align: right;\">\n",
       "      <th></th>\n",
       "      <th>Gender</th>\n",
       "      <th>Payment Method</th>\n",
       "      <th>Churn</th>\n",
       "      <th>BirthYear</th>\n",
       "    </tr>\n",
       "  </thead>\n",
       "  <tbody>\n",
       "    <tr>\n",
       "      <th>5</th>\n",
       "      <td>NaN</td>\n",
       "      <td>credit card</td>\n",
       "      <td>churn</td>\n",
       "      <td>1982.0</td>\n",
       "    </tr>\n",
       "    <tr>\n",
       "      <th>6</th>\n",
       "      <td>NaN</td>\n",
       "      <td>cheque</td>\n",
       "      <td>loyal</td>\n",
       "      <td>1985.0</td>\n",
       "    </tr>\n",
       "    <tr>\n",
       "      <th>18</th>\n",
       "      <td>NaN</td>\n",
       "      <td>credit card</td>\n",
       "      <td>loyal</td>\n",
       "      <td>1990.0</td>\n",
       "    </tr>\n",
       "    <tr>\n",
       "      <th>43</th>\n",
       "      <td>NaN</td>\n",
       "      <td>credit card</td>\n",
       "      <td>churn</td>\n",
       "      <td>1984.0</td>\n",
       "    </tr>\n",
       "    <tr>\n",
       "      <th>44</th>\n",
       "      <td>NaN</td>\n",
       "      <td>credit card</td>\n",
       "      <td>loyal</td>\n",
       "      <td>1965.0</td>\n",
       "    </tr>\n",
       "  </tbody>\n",
       "</table>\n",
       "</div>"
      ],
      "text/plain": [
       "   Gender Payment Method  Churn  BirthYear\n",
       "5     NaN    credit card  churn     1982.0\n",
       "6     NaN         cheque  loyal     1985.0\n",
       "18    NaN    credit card  loyal     1990.0\n",
       "43    NaN    credit card  churn     1984.0\n",
       "44    NaN    credit card  loyal     1965.0"
      ]
     },
     "execution_count": 30,
     "metadata": {},
     "output_type": "execute_result"
    }
   ],
   "source": [
    "df[df['Gender'].isnull()].head(5)"
   ]
  },
  {
   "cell_type": "code",
   "execution_count": 31,
   "metadata": {
    "colab": {
     "base_uri": "https://localhost:8080/",
     "height": 34
    },
    "colab_type": "code",
    "executionInfo": {
     "elapsed": 4173,
     "status": "ok",
     "timestamp": 1560694138170,
     "user": {
      "displayName": "Teerapong Panboonyuen",
      "photoUrl": "https://lh6.googleusercontent.com/-iKyx5xtWFk8/AAAAAAAAAAI/AAAAAAAACqY/cdrOGhiN8Pw/s64/photo.jpg",
      "userId": "10952242531985089596"
     },
     "user_tz": -420
    },
    "id": "iZPJt0jZiY5f",
    "outputId": "b70e252c-33e7-4cd1-afab-48396d9b7c77"
   },
   "outputs": [
    {
     "name": "stdout",
     "output_type": "stream",
     "text": [
      "male\n"
     ]
    }
   ],
   "source": [
    "mode = df['Gender'].mode()[0]\n",
    "print(mode)"
   ]
  },
  {
   "cell_type": "code",
   "execution_count": 32,
   "metadata": {
    "colab": {},
    "colab_type": "code",
    "id": "StX_xxHRjRV0"
   },
   "outputs": [],
   "source": [
    "df['Gender'] = df['Gender'].fillna(mode)"
   ]
  },
  {
   "cell_type": "code",
   "execution_count": 33,
   "metadata": {
    "colab": {
     "base_uri": "https://localhost:8080/",
     "height": 528
    },
    "colab_type": "code",
    "executionInfo": {
     "elapsed": 3782,
     "status": "ok",
     "timestamp": 1560694138173,
     "user": {
      "displayName": "Teerapong Panboonyuen",
      "photoUrl": "https://lh6.googleusercontent.com/-iKyx5xtWFk8/AAAAAAAAAAI/AAAAAAAACqY/cdrOGhiN8Pw/s64/photo.jpg",
      "userId": "10952242531985089596"
     },
     "user_tz": -420
    },
    "id": "_1pk_kaUjRYZ",
    "outputId": "75f5ab53-371c-407d-fd05-a99a97877a8d"
   },
   "outputs": [
    {
     "data": {
      "text/plain": [
       "<matplotlib.axes._subplots.AxesSubplot at 0x1d2acfc7e88>"
      ]
     },
     "execution_count": 33,
     "metadata": {},
     "output_type": "execute_result"
    },
    {
     "data": {
      "image/png": "[encoded data removed]",
      "text/plain": [
       "<Figure size 864x576 with 1 Axes>"
      ]
     },
     "metadata": {
      "needs_background": "light"
     },
     "output_type": "display_data"
    }
   ],
   "source": [
    "df['Gender'].fillna('Missing').value_counts().plot(kind='bar')"
   ]
  },
  {
   "cell_type": "code",
   "execution_count": 34,
   "metadata": {
    "colab": {
     "base_uri": "https://localhost:8080/",
     "height": 49
    },
    "colab_type": "code",
    "executionInfo": {
     "elapsed": 3588,
     "status": "ok",
     "timestamp": 1560694138174,
     "user": {
      "displayName": "Teerapong Panboonyuen",
      "photoUrl": "https://lh6.googleusercontent.com/-iKyx5xtWFk8/AAAAAAAAAAI/AAAAAAAACqY/cdrOGhiN8Pw/s64/photo.jpg",
      "userId": "10952242531985089596"
     },
     "user_tz": -420
    },
    "id": "xzJ9AXNl8CSa",
    "outputId": "3d3d8755-b668-4505-85ad-962638d0e1ab"
   },
   "outputs": [
    {
     "data": {
      "text/html": [
       "<div>\n",
       "<style scoped>\n",
       "    .dataframe tbody tr th:only-of-type {\n",
       "        vertical-align: middle;\n",
       "    }\n",
       "\n",
       "    .dataframe tbody tr th {\n",
       "        vertical-align: top;\n",
       "    }\n",
       "\n",
       "    .dataframe thead th {\n",
       "        text-align: right;\n",
       "    }\n",
       "</style>\n",
       "<table border=\"1\" class=\"dataframe\">\n",
       "  <thead>\n",
       "    <tr style=\"text-align: right;\">\n",
       "      <th></th>\n",
       "      <th>Gender</th>\n",
       "      <th>Payment Method</th>\n",
       "      <th>Churn</th>\n",
       "      <th>BirthYear</th>\n",
       "    </tr>\n",
       "  </thead>\n",
       "  <tbody>\n",
       "  </tbody>\n",
       "</table>\n",
       "</div>"
      ],
      "text/plain": [
       "Empty DataFrame\n",
       "Columns: [Gender, Payment Method, Churn, BirthYear]\n",
       "Index: []"
      ]
     },
     "execution_count": 34,
     "metadata": {},
     "output_type": "execute_result"
    }
   ],
   "source": [
    "#no missing records\n",
    "df[df['Gender'].isnull()].head(5)"
   ]
  },
  {
   "cell_type": "markdown",
   "metadata": {
    "colab_type": "text",
    "id": "QxN2K4Jy7Yc-"
   },
   "source": [
    "**6) Convert non-numeric to numeric variable**"
   ]
  },
  {
   "cell_type": "markdown",
   "metadata": {
    "colab_type": "text",
    "id": "ILiPVyni-Yfh"
   },
   "source": [
    "First, let's understand the two types of categorical features we have in our dataset and how we can convert each to numerical features\n",
    "\n",
    ">Keep in mind, the goal in this section is to have all the columns as numeric columns (int or float data type), and containing no missing values. We just dealt with the missing values, so let's now find out the number of columns that are of the object data type and then move on to process them into numeric form.\n"
   ]
  },
  {
   "cell_type": "markdown",
   "metadata": {
    "colab_type": "text",
    "id": "TseTM8P87i3r"
   },
   "source": [
    ">6.1) Ordinal variable\n"
   ]
  },
  {
   "cell_type": "code",
   "execution_count": 35,
   "metadata": {
    "colab": {
     "base_uri": "https://localhost:8080/",
     "height": 204
    },
    "colab_type": "code",
    "executionInfo": {
     "elapsed": 2776,
     "status": "ok",
     "timestamp": 1560694138175,
     "user": {
      "displayName": "Teerapong Panboonyuen",
      "photoUrl": "https://lh6.googleusercontent.com/-iKyx5xtWFk8/AAAAAAAAAAI/AAAAAAAACqY/cdrOGhiN8Pw/s64/photo.jpg",
      "userId": "10952242531985089596"
     },
     "user_tz": -420
    },
    "id": "l3mFk_FI8csv",
    "outputId": "96030c80-5ea3-404e-d880-404f3941f9a7"
   },
   "outputs": [
    {
     "data": {
      "text/html": [
       "<div>\n",
       "<style scoped>\n",
       "    .dataframe tbody tr th:only-of-type {\n",
       "        vertical-align: middle;\n",
       "    }\n",
       "\n",
       "    .dataframe tbody tr th {\n",
       "        vertical-align: top;\n",
       "    }\n",
       "\n",
       "    .dataframe thead th {\n",
       "        text-align: right;\n",
       "    }\n",
       "</style>\n",
       "<table border=\"1\" class=\"dataframe\">\n",
       "  <thead>\n",
       "    <tr style=\"text-align: right;\">\n",
       "      <th></th>\n",
       "      <th>Gender</th>\n",
       "      <th>Payment Method</th>\n",
       "      <th>Churn</th>\n",
       "      <th>BirthYear</th>\n",
       "    </tr>\n",
       "  </thead>\n",
       "  <tbody>\n",
       "    <tr>\n",
       "      <th>0</th>\n",
       "      <td>male</td>\n",
       "      <td>credit card</td>\n",
       "      <td>loyal</td>\n",
       "      <td>1899.0</td>\n",
       "    </tr>\n",
       "    <tr>\n",
       "      <th>1</th>\n",
       "      <td>female</td>\n",
       "      <td>credit card</td>\n",
       "      <td>churn</td>\n",
       "      <td>2000.0</td>\n",
       "    </tr>\n",
       "    <tr>\n",
       "      <th>2</th>\n",
       "      <td>male</td>\n",
       "      <td>credit card</td>\n",
       "      <td>loyal</td>\n",
       "      <td>1980.0</td>\n",
       "    </tr>\n",
       "    <tr>\n",
       "      <th>3</th>\n",
       "      <td>female</td>\n",
       "      <td>credit card</td>\n",
       "      <td>churn</td>\n",
       "      <td>1899.0</td>\n",
       "    </tr>\n",
       "    <tr>\n",
       "      <th>4</th>\n",
       "      <td>female</td>\n",
       "      <td>credit card</td>\n",
       "      <td>churn</td>\n",
       "      <td>1985.0</td>\n",
       "    </tr>\n",
       "  </tbody>\n",
       "</table>\n",
       "</div>"
      ],
      "text/plain": [
       "   Gender Payment Method  Churn  BirthYear\n",
       "0    male    credit card  loyal     1899.0\n",
       "1  female    credit card  churn     2000.0\n",
       "2    male    credit card  loyal     1980.0\n",
       "3  female    credit card  churn     1899.0\n",
       "4  female    credit card  churn     1985.0"
      ]
     },
     "execution_count": 35,
     "metadata": {},
     "output_type": "execute_result"
    }
   ],
   "source": [
    "df.head()"
   ]
  },
  {
   "cell_type": "code",
   "execution_count": 36,
   "metadata": {
    "colab": {},
    "colab_type": "code",
    "id": "qAV3hP2A7fyM"
   },
   "outputs": [],
   "source": [
    "conv_dict={'male':0,'female':1}\n",
    "df['Gender']=df['Gender'].apply(conv_dict.get)"
   ]
  },
  {
   "cell_type": "code",
   "execution_count": 37,
   "metadata": {
    "colab": {
     "base_uri": "https://localhost:8080/",
     "height": 204
    },
    "colab_type": "code",
    "executionInfo": {
     "elapsed": 2737,
     "status": "ok",
     "timestamp": 1560694138565,
     "user": {
      "displayName": "Teerapong Panboonyuen",
      "photoUrl": "https://lh6.googleusercontent.com/-iKyx5xtWFk8/AAAAAAAAAAI/AAAAAAAACqY/cdrOGhiN8Pw/s64/photo.jpg",
      "userId": "10952242531985089596"
     },
     "user_tz": -420
    },
    "id": "ryv5vhIz7grd",
    "outputId": "41b851f8-ba3d-46d8-8bf9-378658228bb1"
   },
   "outputs": [
    {
     "data": {
      "text/html": [
       "<div>\n",
       "<style scoped>\n",
       "    .dataframe tbody tr th:only-of-type {\n",
       "        vertical-align: middle;\n",
       "    }\n",
       "\n",
       "    .dataframe tbody tr th {\n",
       "        vertical-align: top;\n",
       "    }\n",
       "\n",
       "    .dataframe thead th {\n",
       "        text-align: right;\n",
       "    }\n",
       "</style>\n",
       "<table border=\"1\" class=\"dataframe\">\n",
       "  <thead>\n",
       "    <tr style=\"text-align: right;\">\n",
       "      <th></th>\n",
       "      <th>Gender</th>\n",
       "      <th>Payment Method</th>\n",
       "      <th>Churn</th>\n",
       "      <th>BirthYear</th>\n",
       "    </tr>\n",
       "  </thead>\n",
       "  <tbody>\n",
       "    <tr>\n",
       "      <th>0</th>\n",
       "      <td>0</td>\n",
       "      <td>credit card</td>\n",
       "      <td>loyal</td>\n",
       "      <td>1899.0</td>\n",
       "    </tr>\n",
       "    <tr>\n",
       "      <th>1</th>\n",
       "      <td>1</td>\n",
       "      <td>credit card</td>\n",
       "      <td>churn</td>\n",
       "      <td>2000.0</td>\n",
       "    </tr>\n",
       "    <tr>\n",
       "      <th>2</th>\n",
       "      <td>0</td>\n",
       "      <td>credit card</td>\n",
       "      <td>loyal</td>\n",
       "      <td>1980.0</td>\n",
       "    </tr>\n",
       "    <tr>\n",
       "      <th>3</th>\n",
       "      <td>1</td>\n",
       "      <td>credit card</td>\n",
       "      <td>churn</td>\n",
       "      <td>1899.0</td>\n",
       "    </tr>\n",
       "    <tr>\n",
       "      <th>4</th>\n",
       "      <td>1</td>\n",
       "      <td>credit card</td>\n",
       "      <td>churn</td>\n",
       "      <td>1985.0</td>\n",
       "    </tr>\n",
       "  </tbody>\n",
       "</table>\n",
       "</div>"
      ],
      "text/plain": [
       "   Gender Payment Method  Churn  BirthYear\n",
       "0       0    credit card  loyal     1899.0\n",
       "1       1    credit card  churn     2000.0\n",
       "2       0    credit card  loyal     1980.0\n",
       "3       1    credit card  churn     1899.0\n",
       "4       1    credit card  churn     1985.0"
      ]
     },
     "execution_count": 37,
     "metadata": {},
     "output_type": "execute_result"
    }
   ],
   "source": [
    "df.head()"
   ]
  },
  {
   "cell_type": "markdown",
   "metadata": {
    "colab_type": "text",
    "id": "n7xr0X3x7lZ7"
   },
   "source": [
    ">6.2) Nominal variable"
   ]
  },
  {
   "cell_type": "markdown",
   "metadata": {
    "colab_type": "text",
    "id": "IdHjVs9a-y16"
   },
   "source": [
    ">These are regular categorical values. You can't order nominal values."
   ]
  },
  {
   "cell_type": "code",
   "execution_count": 38,
   "metadata": {
    "colab": {
     "base_uri": "https://localhost:8080/",
     "height": 547
    },
    "colab_type": "code",
    "executionInfo": {
     "elapsed": 2077,
     "status": "ok",
     "timestamp": 1560694138566,
     "user": {
      "displayName": "Teerapong Panboonyuen",
      "photoUrl": "https://lh6.googleusercontent.com/-iKyx5xtWFk8/AAAAAAAAAAI/AAAAAAAACqY/cdrOGhiN8Pw/s64/photo.jpg",
      "userId": "10952242531985089596"
     },
     "user_tz": -420
    },
    "id": "pdTw_r1v7n4v",
    "outputId": "af71c5d7-70f1-4d1b-df14-9e88334d8cee"
   },
   "outputs": [
    {
     "data": {
      "text/plain": [
       "<matplotlib.axes._subplots.AxesSubplot at 0x1d2ad033388>"
      ]
     },
     "execution_count": 38,
     "metadata": {},
     "output_type": "execute_result"
    },
    {
     "data": {
      "image/png": "[encoded data removed]",
      "text/plain": [
       "<Figure size 864x576 with 1 Axes>"
      ]
     },
     "metadata": {
      "needs_background": "light"
     },
     "output_type": "display_data"
    }
   ],
   "source": [
    "df['Payment Method'].value_counts().plot(kind='bar')"
   ]
  },
  {
   "cell_type": "code",
   "execution_count": 39,
   "metadata": {
    "colab": {
     "base_uri": "https://localhost:8080/",
     "height": 204
    },
    "colab_type": "code",
    "executionInfo": {
     "elapsed": 1875,
     "status": "ok",
     "timestamp": 1560694138567,
     "user": {
      "displayName": "Teerapong Panboonyuen",
      "photoUrl": "https://lh6.googleusercontent.com/-iKyx5xtWFk8/AAAAAAAAAAI/AAAAAAAACqY/cdrOGhiN8Pw/s64/photo.jpg",
      "userId": "10952242531985089596"
     },
     "user_tz": -420
    },
    "id": "8DNwqT8AlszT",
    "outputId": "e675299f-fa89-419e-8cc1-6600c7c1859a"
   },
   "outputs": [
    {
     "data": {
      "text/html": [
       "<div>\n",
       "<style scoped>\n",
       "    .dataframe tbody tr th:only-of-type {\n",
       "        vertical-align: middle;\n",
       "    }\n",
       "\n",
       "    .dataframe tbody tr th {\n",
       "        vertical-align: top;\n",
       "    }\n",
       "\n",
       "    .dataframe thead th {\n",
       "        text-align: right;\n",
       "    }\n",
       "</style>\n",
       "<table border=\"1\" class=\"dataframe\">\n",
       "  <thead>\n",
       "    <tr style=\"text-align: right;\">\n",
       "      <th></th>\n",
       "      <th>Gender</th>\n",
       "      <th>Payment Method</th>\n",
       "      <th>Churn</th>\n",
       "      <th>BirthYear</th>\n",
       "    </tr>\n",
       "  </thead>\n",
       "  <tbody>\n",
       "    <tr>\n",
       "      <th>0</th>\n",
       "      <td>0</td>\n",
       "      <td>credit card</td>\n",
       "      <td>loyal</td>\n",
       "      <td>1899.0</td>\n",
       "    </tr>\n",
       "    <tr>\n",
       "      <th>1</th>\n",
       "      <td>1</td>\n",
       "      <td>credit card</td>\n",
       "      <td>churn</td>\n",
       "      <td>2000.0</td>\n",
       "    </tr>\n",
       "    <tr>\n",
       "      <th>2</th>\n",
       "      <td>0</td>\n",
       "      <td>credit card</td>\n",
       "      <td>loyal</td>\n",
       "      <td>1980.0</td>\n",
       "    </tr>\n",
       "    <tr>\n",
       "      <th>3</th>\n",
       "      <td>1</td>\n",
       "      <td>credit card</td>\n",
       "      <td>churn</td>\n",
       "      <td>1899.0</td>\n",
       "    </tr>\n",
       "    <tr>\n",
       "      <th>4</th>\n",
       "      <td>1</td>\n",
       "      <td>credit card</td>\n",
       "      <td>churn</td>\n",
       "      <td>1985.0</td>\n",
       "    </tr>\n",
       "  </tbody>\n",
       "</table>\n",
       "</div>"
      ],
      "text/plain": [
       "   Gender Payment Method  Churn  BirthYear\n",
       "0       0    credit card  loyal     1899.0\n",
       "1       1    credit card  churn     2000.0\n",
       "2       0    credit card  loyal     1980.0\n",
       "3       1    credit card  churn     1899.0\n",
       "4       1    credit card  churn     1985.0"
      ]
     },
     "execution_count": 39,
     "metadata": {},
     "output_type": "execute_result"
    }
   ],
   "source": [
    "df.head(5)"
   ]
  },
  {
   "cell_type": "code",
   "execution_count": 40,
   "metadata": {
    "colab": {
     "base_uri": "https://localhost:8080/",
     "height": 34
    },
    "colab_type": "code",
    "executionInfo": {
     "elapsed": 2103,
     "status": "ok",
     "timestamp": 1560694139008,
     "user": {
      "displayName": "Teerapong Panboonyuen",
      "photoUrl": "https://lh6.googleusercontent.com/-iKyx5xtWFk8/AAAAAAAAAAI/AAAAAAAACqY/cdrOGhiN8Pw/s64/photo.jpg",
      "userId": "10952242531985089596"
     },
     "user_tz": -420
    },
    "id": "wFsslcO88q1Z",
    "outputId": "e941c424-09ce-4a21-bc34-a52c4f6a9875"
   },
   "outputs": [
    {
     "data": {
      "text/plain": [
       "array(['credit card', 'cheque', 'cash'], dtype=object)"
      ]
     },
     "execution_count": 40,
     "metadata": {},
     "output_type": "execute_result"
    }
   ],
   "source": [
    "df['Payment Method'].unique()"
   ]
  },
  {
   "cell_type": "code",
   "execution_count": 41,
   "metadata": {
    "colab": {
     "base_uri": "https://localhost:8080/",
     "height": 102
    },
    "colab_type": "code",
    "executionInfo": {
     "elapsed": 1903,
     "status": "ok",
     "timestamp": 1560694139010,
     "user": {
      "displayName": "Teerapong Panboonyuen",
      "photoUrl": "https://lh6.googleusercontent.com/-iKyx5xtWFk8/AAAAAAAAAAI/AAAAAAAACqY/cdrOGhiN8Pw/s64/photo.jpg",
      "userId": "10952242531985089596"
     },
     "user_tz": -420
    },
    "id": "iFEY12Q-8ugc",
    "outputId": "20aeb304-083f-42ae-c83b-f9e7b7cb5fdd"
   },
   "outputs": [
    {
     "data": {
      "text/plain": [
       "Payment Method\n",
       "cash           259\n",
       "cheque          60\n",
       "credit card    579\n",
       "dtype: int64"
      ]
     },
     "execution_count": 41,
     "metadata": {},
     "output_type": "execute_result"
    }
   ],
   "source": [
    "df.groupby(['Payment Method']).size()"
   ]
  },
  {
   "cell_type": "code",
   "execution_count": 42,
   "metadata": {
    "colab": {
     "base_uri": "https://localhost:8080/",
     "height": 390
    },
    "colab_type": "code",
    "executionInfo": {
     "elapsed": 1719,
     "status": "ok",
     "timestamp": 1560694139011,
     "user": {
      "displayName": "Teerapong Panboonyuen",
      "photoUrl": "https://lh6.googleusercontent.com/-iKyx5xtWFk8/AAAAAAAAAAI/AAAAAAAACqY/cdrOGhiN8Pw/s64/photo.jpg",
      "userId": "10952242531985089596"
     },
     "user_tz": -420
    },
    "id": "Rcik_Fhu8_hp",
    "outputId": "8b06f425-fbb0-4c1a-c4c4-f2423da622b0"
   },
   "outputs": [
    {
     "data": {
      "text/html": [
       "<div>\n",
       "<style scoped>\n",
       "    .dataframe tbody tr th:only-of-type {\n",
       "        vertical-align: middle;\n",
       "    }\n",
       "\n",
       "    .dataframe tbody tr th {\n",
       "        vertical-align: top;\n",
       "    }\n",
       "\n",
       "    .dataframe thead th {\n",
       "        text-align: right;\n",
       "    }\n",
       "</style>\n",
       "<table border=\"1\" class=\"dataframe\">\n",
       "  <thead>\n",
       "    <tr style=\"text-align: right;\">\n",
       "      <th></th>\n",
       "      <th>Gender</th>\n",
       "      <th>Payment Method</th>\n",
       "      <th>Churn</th>\n",
       "      <th>BirthYear</th>\n",
       "    </tr>\n",
       "  </thead>\n",
       "  <tbody>\n",
       "    <tr>\n",
       "      <th>count</th>\n",
       "      <td>898.000000</td>\n",
       "      <td>898</td>\n",
       "      <td>898</td>\n",
       "      <td>898.000000</td>\n",
       "    </tr>\n",
       "    <tr>\n",
       "      <th>unique</th>\n",
       "      <td>NaN</td>\n",
       "      <td>3</td>\n",
       "      <td>2</td>\n",
       "      <td>NaN</td>\n",
       "    </tr>\n",
       "    <tr>\n",
       "      <th>top</th>\n",
       "      <td>NaN</td>\n",
       "      <td>credit card</td>\n",
       "      <td>loyal</td>\n",
       "      <td>NaN</td>\n",
       "    </tr>\n",
       "    <tr>\n",
       "      <th>freq</th>\n",
       "      <td>NaN</td>\n",
       "      <td>579</td>\n",
       "      <td>576</td>\n",
       "      <td>NaN</td>\n",
       "    </tr>\n",
       "    <tr>\n",
       "      <th>mean</th>\n",
       "      <td>0.447661</td>\n",
       "      <td>NaN</td>\n",
       "      <td>NaN</td>\n",
       "      <td>1972.010022</td>\n",
       "    </tr>\n",
       "    <tr>\n",
       "      <th>std</th>\n",
       "      <td>0.497530</td>\n",
       "      <td>NaN</td>\n",
       "      <td>NaN</td>\n",
       "      <td>19.643731</td>\n",
       "    </tr>\n",
       "    <tr>\n",
       "      <th>min</th>\n",
       "      <td>0.000000</td>\n",
       "      <td>NaN</td>\n",
       "      <td>NaN</td>\n",
       "      <td>1899.000000</td>\n",
       "    </tr>\n",
       "    <tr>\n",
       "      <th>25%</th>\n",
       "      <td>0.000000</td>\n",
       "      <td>NaN</td>\n",
       "      <td>NaN</td>\n",
       "      <td>1960.000000</td>\n",
       "    </tr>\n",
       "    <tr>\n",
       "      <th>50%</th>\n",
       "      <td>0.000000</td>\n",
       "      <td>NaN</td>\n",
       "      <td>NaN</td>\n",
       "      <td>1974.000000</td>\n",
       "    </tr>\n",
       "    <tr>\n",
       "      <th>75%</th>\n",
       "      <td>1.000000</td>\n",
       "      <td>NaN</td>\n",
       "      <td>NaN</td>\n",
       "      <td>1988.000000</td>\n",
       "    </tr>\n",
       "    <tr>\n",
       "      <th>max</th>\n",
       "      <td>1.000000</td>\n",
       "      <td>NaN</td>\n",
       "      <td>NaN</td>\n",
       "      <td>2018.000000</td>\n",
       "    </tr>\n",
       "  </tbody>\n",
       "</table>\n",
       "</div>"
      ],
      "text/plain": [
       "            Gender Payment Method  Churn    BirthYear\n",
       "count   898.000000            898    898   898.000000\n",
       "unique         NaN              3      2          NaN\n",
       "top            NaN    credit card  loyal          NaN\n",
       "freq           NaN            579    576          NaN\n",
       "mean      0.447661            NaN    NaN  1972.010022\n",
       "std       0.497530            NaN    NaN    19.643731\n",
       "min       0.000000            NaN    NaN  1899.000000\n",
       "25%       0.000000            NaN    NaN  1960.000000\n",
       "50%       0.000000            NaN    NaN  1974.000000\n",
       "75%       1.000000            NaN    NaN  1988.000000\n",
       "max       1.000000            NaN    NaN  2018.000000"
      ]
     },
     "execution_count": 42,
     "metadata": {},
     "output_type": "execute_result"
    }
   ],
   "source": [
    "df.describe(include = 'all')"
   ]
  },
  {
   "cell_type": "code",
   "execution_count": 43,
   "metadata": {
    "colab": {
     "base_uri": "https://localhost:8080/",
     "height": 204
    },
    "colab_type": "code",
    "executionInfo": {
     "elapsed": 1506,
     "status": "ok",
     "timestamp": 1560694139012,
     "user": {
      "displayName": "Teerapong Panboonyuen",
      "photoUrl": "https://lh6.googleusercontent.com/-iKyx5xtWFk8/AAAAAAAAAAI/AAAAAAAACqY/cdrOGhiN8Pw/s64/photo.jpg",
      "userId": "10952242531985089596"
     },
     "user_tz": -420
    },
    "id": "W-P0lwau7qsn",
    "outputId": "b39559ec-ac84-48a6-f156-9e70106e1611"
   },
   "outputs": [
    {
     "data": {
      "text/html": [
       "<div>\n",
       "<style scoped>\n",
       "    .dataframe tbody tr th:only-of-type {\n",
       "        vertical-align: middle;\n",
       "    }\n",
       "\n",
       "    .dataframe tbody tr th {\n",
       "        vertical-align: top;\n",
       "    }\n",
       "\n",
       "    .dataframe thead th {\n",
       "        text-align: right;\n",
       "    }\n",
       "</style>\n",
       "<table border=\"1\" class=\"dataframe\">\n",
       "  <thead>\n",
       "    <tr style=\"text-align: right;\">\n",
       "      <th></th>\n",
       "      <th>PayMethd_cash</th>\n",
       "      <th>PayMethd_cheque</th>\n",
       "      <th>PayMethd_credit card</th>\n",
       "    </tr>\n",
       "  </thead>\n",
       "  <tbody>\n",
       "    <tr>\n",
       "      <th>0</th>\n",
       "      <td>0</td>\n",
       "      <td>0</td>\n",
       "      <td>1</td>\n",
       "    </tr>\n",
       "    <tr>\n",
       "      <th>1</th>\n",
       "      <td>0</td>\n",
       "      <td>0</td>\n",
       "      <td>1</td>\n",
       "    </tr>\n",
       "    <tr>\n",
       "      <th>2</th>\n",
       "      <td>0</td>\n",
       "      <td>0</td>\n",
       "      <td>1</td>\n",
       "    </tr>\n",
       "    <tr>\n",
       "      <th>3</th>\n",
       "      <td>0</td>\n",
       "      <td>0</td>\n",
       "      <td>1</td>\n",
       "    </tr>\n",
       "    <tr>\n",
       "      <th>4</th>\n",
       "      <td>0</td>\n",
       "      <td>0</td>\n",
       "      <td>1</td>\n",
       "    </tr>\n",
       "  </tbody>\n",
       "</table>\n",
       "</div>"
      ],
      "text/plain": [
       "   PayMethd_cash  PayMethd_cheque  PayMethd_credit card\n",
       "0              0                0                     1\n",
       "1              0                0                     1\n",
       "2              0                0                     1\n",
       "3              0                0                     1\n",
       "4              0                0                     1"
      ]
     },
     "execution_count": 43,
     "metadata": {},
     "output_type": "execute_result"
    }
   ],
   "source": [
    "payMtd_df = pd.get_dummies(df['Payment Method'], prefix='PayMethd')\n",
    "payMtd_df.head(5)"
   ]
  },
  {
   "cell_type": "code",
   "execution_count": 44,
   "metadata": {
    "colab": {},
    "colab_type": "code",
    "id": "SxZZt50hlXPA"
   },
   "outputs": [],
   "source": [
    "df = pd.concat([df, payMtd_df], axis=1)"
   ]
  },
  {
   "cell_type": "code",
   "execution_count": 45,
   "metadata": {
    "colab": {},
    "colab_type": "code",
    "id": "vVG04tRnllUS"
   },
   "outputs": [],
   "source": [
    "df = df.drop(['Payment Method', 'PayMethd_cheque'], axis=1)"
   ]
  },
  {
   "cell_type": "code",
   "execution_count": 46,
   "metadata": {
    "colab": {
     "base_uri": "https://localhost:8080/",
     "height": 204
    },
    "colab_type": "code",
    "executionInfo": {
     "elapsed": 1200,
     "status": "ok",
     "timestamp": 1560694139572,
     "user": {
      "displayName": "Teerapong Panboonyuen",
      "photoUrl": "https://lh6.googleusercontent.com/-iKyx5xtWFk8/AAAAAAAAAAI/AAAAAAAACqY/cdrOGhiN8Pw/s64/photo.jpg",
      "userId": "10952242531985089596"
     },
     "user_tz": -420
    },
    "id": "tHqBVfYq7rf7",
    "outputId": "0f5d4493-4a00-434b-ce8d-fda5171136e9"
   },
   "outputs": [
    {
     "data": {
      "text/html": [
       "<div>\n",
       "<style scoped>\n",
       "    .dataframe tbody tr th:only-of-type {\n",
       "        vertical-align: middle;\n",
       "    }\n",
       "\n",
       "    .dataframe tbody tr th {\n",
       "        vertical-align: top;\n",
       "    }\n",
       "\n",
       "    .dataframe thead th {\n",
       "        text-align: right;\n",
       "    }\n",
       "</style>\n",
       "<table border=\"1\" class=\"dataframe\">\n",
       "  <thead>\n",
       "    <tr style=\"text-align: right;\">\n",
       "      <th></th>\n",
       "      <th>Gender</th>\n",
       "      <th>Churn</th>\n",
       "      <th>BirthYear</th>\n",
       "      <th>PayMethd_cash</th>\n",
       "      <th>PayMethd_credit card</th>\n",
       "    </tr>\n",
       "  </thead>\n",
       "  <tbody>\n",
       "    <tr>\n",
       "      <th>0</th>\n",
       "      <td>0</td>\n",
       "      <td>loyal</td>\n",
       "      <td>1899.0</td>\n",
       "      <td>0</td>\n",
       "      <td>1</td>\n",
       "    </tr>\n",
       "    <tr>\n",
       "      <th>1</th>\n",
       "      <td>1</td>\n",
       "      <td>churn</td>\n",
       "      <td>2000.0</td>\n",
       "      <td>0</td>\n",
       "      <td>1</td>\n",
       "    </tr>\n",
       "    <tr>\n",
       "      <th>2</th>\n",
       "      <td>0</td>\n",
       "      <td>loyal</td>\n",
       "      <td>1980.0</td>\n",
       "      <td>0</td>\n",
       "      <td>1</td>\n",
       "    </tr>\n",
       "    <tr>\n",
       "      <th>3</th>\n",
       "      <td>1</td>\n",
       "      <td>churn</td>\n",
       "      <td>1899.0</td>\n",
       "      <td>0</td>\n",
       "      <td>1</td>\n",
       "    </tr>\n",
       "    <tr>\n",
       "      <th>4</th>\n",
       "      <td>1</td>\n",
       "      <td>churn</td>\n",
       "      <td>1985.0</td>\n",
       "      <td>0</td>\n",
       "      <td>1</td>\n",
       "    </tr>\n",
       "  </tbody>\n",
       "</table>\n",
       "</div>"
      ],
      "text/plain": [
       "   Gender  Churn  BirthYear  PayMethd_cash  PayMethd_credit card\n",
       "0       0  loyal     1899.0              0                     1\n",
       "1       1  churn     2000.0              0                     1\n",
       "2       0  loyal     1980.0              0                     1\n",
       "3       1  churn     1899.0              0                     1\n",
       "4       1  churn     1985.0              0                     1"
      ]
     },
     "execution_count": 46,
     "metadata": {},
     "output_type": "execute_result"
    }
   ],
   "source": [
    "df.head(5)"
   ]
  },
  {
   "cell_type": "markdown",
   "metadata": {
    "colab_type": "text",
    "id": "13_VStUApwZO"
   },
   "source": [
    "**7) Create calculated variables**"
   ]
  },
  {
   "cell_type": "markdown",
   "metadata": {
    "colab_type": "text",
    "id": "IYCLqMmspxkB"
   },
   "source": [
    "A key part of any data science project is to do everything you can to understand the data."
   ]
  },
  {
   "cell_type": "code",
   "execution_count": 47,
   "metadata": {
    "colab": {
     "base_uri": "https://localhost:8080/",
     "height": 204
    },
    "colab_type": "code",
    "executionInfo": {
     "elapsed": 747,
     "status": "ok",
     "timestamp": 1560694139572,
     "user": {
      "displayName": "Teerapong Panboonyuen",
      "photoUrl": "https://lh6.googleusercontent.com/-iKyx5xtWFk8/AAAAAAAAAAI/AAAAAAAACqY/cdrOGhiN8Pw/s64/photo.jpg",
      "userId": "10952242531985089596"
     },
     "user_tz": -420
    },
    "id": "GYJFopyqpWNk",
    "outputId": "d2ecc7b3-6328-4742-a48f-2fad3f28421a"
   },
   "outputs": [
    {
     "data": {
      "text/html": [
       "<div>\n",
       "<style scoped>\n",
       "    .dataframe tbody tr th:only-of-type {\n",
       "        vertical-align: middle;\n",
       "    }\n",
       "\n",
       "    .dataframe tbody tr th {\n",
       "        vertical-align: top;\n",
       "    }\n",
       "\n",
       "    .dataframe thead th {\n",
       "        text-align: right;\n",
       "    }\n",
       "</style>\n",
       "<table border=\"1\" class=\"dataframe\">\n",
       "  <thead>\n",
       "    <tr style=\"text-align: right;\">\n",
       "      <th></th>\n",
       "      <th>Gender</th>\n",
       "      <th>Churn</th>\n",
       "      <th>BirthYear</th>\n",
       "      <th>PayMethd_cash</th>\n",
       "      <th>PayMethd_credit card</th>\n",
       "    </tr>\n",
       "  </thead>\n",
       "  <tbody>\n",
       "    <tr>\n",
       "      <th>0</th>\n",
       "      <td>0</td>\n",
       "      <td>loyal</td>\n",
       "      <td>1899.0</td>\n",
       "      <td>0</td>\n",
       "      <td>1</td>\n",
       "    </tr>\n",
       "    <tr>\n",
       "      <th>1</th>\n",
       "      <td>1</td>\n",
       "      <td>churn</td>\n",
       "      <td>2000.0</td>\n",
       "      <td>0</td>\n",
       "      <td>1</td>\n",
       "    </tr>\n",
       "    <tr>\n",
       "      <th>2</th>\n",
       "      <td>0</td>\n",
       "      <td>loyal</td>\n",
       "      <td>1980.0</td>\n",
       "      <td>0</td>\n",
       "      <td>1</td>\n",
       "    </tr>\n",
       "    <tr>\n",
       "      <th>3</th>\n",
       "      <td>1</td>\n",
       "      <td>churn</td>\n",
       "      <td>1899.0</td>\n",
       "      <td>0</td>\n",
       "      <td>1</td>\n",
       "    </tr>\n",
       "    <tr>\n",
       "      <th>4</th>\n",
       "      <td>1</td>\n",
       "      <td>churn</td>\n",
       "      <td>1985.0</td>\n",
       "      <td>0</td>\n",
       "      <td>1</td>\n",
       "    </tr>\n",
       "  </tbody>\n",
       "</table>\n",
       "</div>"
      ],
      "text/plain": [
       "   Gender  Churn  BirthYear  PayMethd_cash  PayMethd_credit card\n",
       "0       0  loyal     1899.0              0                     1\n",
       "1       1  churn     2000.0              0                     1\n",
       "2       0  loyal     1980.0              0                     1\n",
       "3       1  churn     1899.0              0                     1\n",
       "4       1  churn     1985.0              0                     1"
      ]
     },
     "execution_count": 47,
     "metadata": {},
     "output_type": "execute_result"
    }
   ],
   "source": [
    "df.head()"
   ]
  },
  {
   "cell_type": "code",
   "execution_count": 48,
   "metadata": {
    "colab": {
     "base_uri": "https://localhost:8080/",
     "height": 34
    },
    "colab_type": "code",
    "executionInfo": {
     "elapsed": 1501,
     "status": "ok",
     "timestamp": 1560694140575,
     "user": {
      "displayName": "Teerapong Panboonyuen",
      "photoUrl": "https://lh6.googleusercontent.com/-iKyx5xtWFk8/AAAAAAAAAAI/AAAAAAAACqY/cdrOGhiN8Pw/s64/photo.jpg",
      "userId": "10952242531985089596"
     },
     "user_tz": -420
    },
    "id": "MaGwXFLBpWQJ",
    "outputId": "eafb7c17-cb74-4e4f-c3cd-83458f9b8d41"
   },
   "outputs": [
    {
     "data": {
      "text/plain": [
       "2020"
      ]
     },
     "execution_count": 48,
     "metadata": {},
     "output_type": "execute_result"
    }
   ],
   "source": [
    "now = datetime.datetime.today().year\n",
    "now"
   ]
  },
  {
   "cell_type": "code",
   "execution_count": 49,
   "metadata": {
    "colab": {},
    "colab_type": "code",
    "id": "8yoWTSeepWGz"
   },
   "outputs": [],
   "source": [
    "df['age'] = now - df['BirthYear']"
   ]
  },
  {
   "cell_type": "code",
   "execution_count": 50,
   "metadata": {
    "colab": {
     "base_uri": "https://localhost:8080/",
     "height": 204
    },
    "colab_type": "code",
    "executionInfo": {
     "elapsed": 936,
     "status": "ok",
     "timestamp": 1560694140582,
     "user": {
      "displayName": "Teerapong Panboonyuen",
      "photoUrl": "https://lh6.googleusercontent.com/-iKyx5xtWFk8/AAAAAAAAAAI/AAAAAAAACqY/cdrOGhiN8Pw/s64/photo.jpg",
      "userId": "10952242531985089596"
     },
     "user_tz": -420
    },
    "id": "5f4r-QjHpWE-",
    "outputId": "ab1df5ba-925f-4269-e4bf-92b5c2069fa4"
   },
   "outputs": [
    {
     "data": {
      "text/html": [
       "<div>\n",
       "<style scoped>\n",
       "    .dataframe tbody tr th:only-of-type {\n",
       "        vertical-align: middle;\n",
       "    }\n",
       "\n",
       "    .dataframe tbody tr th {\n",
       "        vertical-align: top;\n",
       "    }\n",
       "\n",
       "    .dataframe thead th {\n",
       "        text-align: right;\n",
       "    }\n",
       "</style>\n",
       "<table border=\"1\" class=\"dataframe\">\n",
       "  <thead>\n",
       "    <tr style=\"text-align: right;\">\n",
       "      <th></th>\n",
       "      <th>Gender</th>\n",
       "      <th>Churn</th>\n",
       "      <th>BirthYear</th>\n",
       "      <th>PayMethd_cash</th>\n",
       "      <th>PayMethd_credit card</th>\n",
       "      <th>age</th>\n",
       "    </tr>\n",
       "  </thead>\n",
       "  <tbody>\n",
       "    <tr>\n",
       "      <th>0</th>\n",
       "      <td>0</td>\n",
       "      <td>loyal</td>\n",
       "      <td>1899.0</td>\n",
       "      <td>0</td>\n",
       "      <td>1</td>\n",
       "      <td>121.0</td>\n",
       "    </tr>\n",
       "    <tr>\n",
       "      <th>1</th>\n",
       "      <td>1</td>\n",
       "      <td>churn</td>\n",
       "      <td>2000.0</td>\n",
       "      <td>0</td>\n",
       "      <td>1</td>\n",
       "      <td>20.0</td>\n",
       "    </tr>\n",
       "    <tr>\n",
       "      <th>2</th>\n",
       "      <td>0</td>\n",
       "      <td>loyal</td>\n",
       "      <td>1980.0</td>\n",
       "      <td>0</td>\n",
       "      <td>1</td>\n",
       "      <td>40.0</td>\n",
       "    </tr>\n",
       "    <tr>\n",
       "      <th>3</th>\n",
       "      <td>1</td>\n",
       "      <td>churn</td>\n",
       "      <td>1899.0</td>\n",
       "      <td>0</td>\n",
       "      <td>1</td>\n",
       "      <td>121.0</td>\n",
       "    </tr>\n",
       "    <tr>\n",
       "      <th>4</th>\n",
       "      <td>1</td>\n",
       "      <td>churn</td>\n",
       "      <td>1985.0</td>\n",
       "      <td>0</td>\n",
       "      <td>1</td>\n",
       "      <td>35.0</td>\n",
       "    </tr>\n",
       "  </tbody>\n",
       "</table>\n",
       "</div>"
      ],
      "text/plain": [
       "   Gender  Churn  BirthYear  PayMethd_cash  PayMethd_credit card    age\n",
       "0       0  loyal     1899.0              0                     1  121.0\n",
       "1       1  churn     2000.0              0                     1   20.0\n",
       "2       0  loyal     1980.0              0                     1   40.0\n",
       "3       1  churn     1899.0              0                     1  121.0\n",
       "4       1  churn     1985.0              0                     1   35.0"
      ]
     },
     "execution_count": 50,
     "metadata": {},
     "output_type": "execute_result"
    }
   ],
   "source": [
    "df.head()"
   ]
  },
  {
   "cell_type": "code",
   "execution_count": 51,
   "metadata": {
    "colab": {},
    "colab_type": "code",
    "id": "5fo_lPHfpWCm"
   },
   "outputs": [],
   "source": [
    "df = df.drop(['BirthYear'], axis=1)"
   ]
  },
  {
   "cell_type": "code",
   "execution_count": 52,
   "metadata": {
    "colab": {
     "base_uri": "https://localhost:8080/",
     "height": 204
    },
    "colab_type": "code",
    "executionInfo": {
     "elapsed": 952,
     "status": "ok",
     "timestamp": 1560694141024,
     "user": {
      "displayName": "Teerapong Panboonyuen",
      "photoUrl": "https://lh6.googleusercontent.com/-iKyx5xtWFk8/AAAAAAAAAAI/AAAAAAAACqY/cdrOGhiN8Pw/s64/photo.jpg",
      "userId": "10952242531985089596"
     },
     "user_tz": -420
    },
    "id": "-nemNC2zpiBj",
    "outputId": "e8309187-60de-4412-bdf9-b9c0146cc766"
   },
   "outputs": [
    {
     "data": {
      "text/html": [
       "<div>\n",
       "<style scoped>\n",
       "    .dataframe tbody tr th:only-of-type {\n",
       "        vertical-align: middle;\n",
       "    }\n",
       "\n",
       "    .dataframe tbody tr th {\n",
       "        vertical-align: top;\n",
       "    }\n",
       "\n",
       "    .dataframe thead th {\n",
       "        text-align: right;\n",
       "    }\n",
       "</style>\n",
       "<table border=\"1\" class=\"dataframe\">\n",
       "  <thead>\n",
       "    <tr style=\"text-align: right;\">\n",
       "      <th></th>\n",
       "      <th>Gender</th>\n",
       "      <th>Churn</th>\n",
       "      <th>PayMethd_cash</th>\n",
       "      <th>PayMethd_credit card</th>\n",
       "      <th>age</th>\n",
       "    </tr>\n",
       "  </thead>\n",
       "  <tbody>\n",
       "    <tr>\n",
       "      <th>0</th>\n",
       "      <td>0</td>\n",
       "      <td>loyal</td>\n",
       "      <td>0</td>\n",
       "      <td>1</td>\n",
       "      <td>121.0</td>\n",
       "    </tr>\n",
       "    <tr>\n",
       "      <th>1</th>\n",
       "      <td>1</td>\n",
       "      <td>churn</td>\n",
       "      <td>0</td>\n",
       "      <td>1</td>\n",
       "      <td>20.0</td>\n",
       "    </tr>\n",
       "    <tr>\n",
       "      <th>2</th>\n",
       "      <td>0</td>\n",
       "      <td>loyal</td>\n",
       "      <td>0</td>\n",
       "      <td>1</td>\n",
       "      <td>40.0</td>\n",
       "    </tr>\n",
       "    <tr>\n",
       "      <th>3</th>\n",
       "      <td>1</td>\n",
       "      <td>churn</td>\n",
       "      <td>0</td>\n",
       "      <td>1</td>\n",
       "      <td>121.0</td>\n",
       "    </tr>\n",
       "    <tr>\n",
       "      <th>4</th>\n",
       "      <td>1</td>\n",
       "      <td>churn</td>\n",
       "      <td>0</td>\n",
       "      <td>1</td>\n",
       "      <td>35.0</td>\n",
       "    </tr>\n",
       "  </tbody>\n",
       "</table>\n",
       "</div>"
      ],
      "text/plain": [
       "   Gender  Churn  PayMethd_cash  PayMethd_credit card    age\n",
       "0       0  loyal              0                     1  121.0\n",
       "1       1  churn              0                     1   20.0\n",
       "2       0  loyal              0                     1   40.0\n",
       "3       1  churn              0                     1  121.0\n",
       "4       1  churn              0                     1   35.0"
      ]
     },
     "execution_count": 52,
     "metadata": {},
     "output_type": "execute_result"
    }
   ],
   "source": [
    "df.head()"
   ]
  },
  {
   "cell_type": "markdown",
   "metadata": {
    "colab_type": "text",
    "id": "GZMgE_G87skL"
   },
   "source": [
    "**8) Remove outlier**"
   ]
  },
  {
   "cell_type": "code",
   "execution_count": 53,
   "metadata": {
    "colab": {
     "base_uri": "https://localhost:8080/",
     "height": 503
    },
    "colab_type": "code",
    "executionInfo": {
     "elapsed": 1273,
     "status": "ok",
     "timestamp": 1560694141767,
     "user": {
      "displayName": "Teerapong Panboonyuen",
      "photoUrl": "https://lh6.googleusercontent.com/-iKyx5xtWFk8/AAAAAAAAAAI/AAAAAAAACqY/cdrOGhiN8Pw/s64/photo.jpg",
      "userId": "10952242531985089596"
     },
     "user_tz": -420
    },
    "id": "CXfRW0h5nUt4",
    "outputId": "eedadc88-5269-4a2d-cb90-3f813053df7f"
   },
   "outputs": [
    {
     "data": {
      "text/plain": [
       "<matplotlib.axes._subplots.AxesSubplot at 0x1d2aca35048>"
      ]
     },
     "execution_count": 53,
     "metadata": {},
     "output_type": "execute_result"
    },
    {
     "data": {
      "image/png": "[encoded data removed]",
      "text/plain": [
       "<Figure size 864x576 with 1 Axes>"
      ]
     },
     "metadata": {
      "needs_background": "light"
     },
     "output_type": "display_data"
    }
   ],
   "source": [
    "df['age'].plot.hist(bins=100, alpha=1)"
   ]
  },
  {
   "cell_type": "code",
   "execution_count": 54,
   "metadata": {
    "colab": {
     "base_uri": "https://localhost:8080/",
     "height": 204
    },
    "colab_type": "code",
    "executionInfo": {
     "elapsed": 1050,
     "status": "ok",
     "timestamp": 1560694141768,
     "user": {
      "displayName": "Teerapong Panboonyuen",
      "photoUrl": "https://lh6.googleusercontent.com/-iKyx5xtWFk8/AAAAAAAAAAI/AAAAAAAACqY/cdrOGhiN8Pw/s64/photo.jpg",
      "userId": "10952242531985089596"
     },
     "user_tz": -420
    },
    "id": "nUiMCsrR7t3k",
    "outputId": "c3ecd941-2911-45e3-cffd-eca46ebf42ea"
   },
   "outputs": [
    {
     "data": {
      "text/html": [
       "<div>\n",
       "<style scoped>\n",
       "    .dataframe tbody tr th:only-of-type {\n",
       "        vertical-align: middle;\n",
       "    }\n",
       "\n",
       "    .dataframe tbody tr th {\n",
       "        vertical-align: top;\n",
       "    }\n",
       "\n",
       "    .dataframe thead th {\n",
       "        text-align: right;\n",
       "    }\n",
       "</style>\n",
       "<table border=\"1\" class=\"dataframe\">\n",
       "  <thead>\n",
       "    <tr style=\"text-align: right;\">\n",
       "      <th></th>\n",
       "      <th>Gender</th>\n",
       "      <th>Churn</th>\n",
       "      <th>PayMethd_cash</th>\n",
       "      <th>PayMethd_credit card</th>\n",
       "      <th>age</th>\n",
       "    </tr>\n",
       "  </thead>\n",
       "  <tbody>\n",
       "    <tr>\n",
       "      <th>0</th>\n",
       "      <td>0</td>\n",
       "      <td>loyal</td>\n",
       "      <td>0</td>\n",
       "      <td>1</td>\n",
       "      <td>121.0</td>\n",
       "    </tr>\n",
       "    <tr>\n",
       "      <th>1</th>\n",
       "      <td>1</td>\n",
       "      <td>churn</td>\n",
       "      <td>0</td>\n",
       "      <td>1</td>\n",
       "      <td>20.0</td>\n",
       "    </tr>\n",
       "    <tr>\n",
       "      <th>2</th>\n",
       "      <td>0</td>\n",
       "      <td>loyal</td>\n",
       "      <td>0</td>\n",
       "      <td>1</td>\n",
       "      <td>40.0</td>\n",
       "    </tr>\n",
       "    <tr>\n",
       "      <th>3</th>\n",
       "      <td>1</td>\n",
       "      <td>churn</td>\n",
       "      <td>0</td>\n",
       "      <td>1</td>\n",
       "      <td>121.0</td>\n",
       "    </tr>\n",
       "    <tr>\n",
       "      <th>4</th>\n",
       "      <td>1</td>\n",
       "      <td>churn</td>\n",
       "      <td>0</td>\n",
       "      <td>1</td>\n",
       "      <td>35.0</td>\n",
       "    </tr>\n",
       "  </tbody>\n",
       "</table>\n",
       "</div>"
      ],
      "text/plain": [
       "   Gender  Churn  PayMethd_cash  PayMethd_credit card    age\n",
       "0       0  loyal              0                     1  121.0\n",
       "1       1  churn              0                     1   20.0\n",
       "2       0  loyal              0                     1   40.0\n",
       "3       1  churn              0                     1  121.0\n",
       "4       1  churn              0                     1   35.0"
      ]
     },
     "execution_count": 54,
     "metadata": {},
     "output_type": "execute_result"
    }
   ],
   "source": [
    "df.head()"
   ]
  },
  {
   "cell_type": "code",
   "execution_count": 55,
   "metadata": {
    "colab": {},
    "colab_type": "code",
    "id": "66ZZrNI2mifc"
   },
   "outputs": [],
   "source": [
    "df['z_age'] = stats.zscore(df['age'])"
   ]
  },
  {
   "cell_type": "code",
   "execution_count": 56,
   "metadata": {
    "colab": {
     "base_uri": "https://localhost:8080/",
     "height": 204
    },
    "colab_type": "code",
    "executionInfo": {
     "elapsed": 1048,
     "status": "ok",
     "timestamp": 1560694142157,
     "user": {
      "displayName": "Teerapong Panboonyuen",
      "photoUrl": "https://lh6.googleusercontent.com/-iKyx5xtWFk8/AAAAAAAAAAI/AAAAAAAACqY/cdrOGhiN8Pw/s64/photo.jpg",
      "userId": "10952242531985089596"
     },
     "user_tz": -420
    },
    "id": "EWmW463HmRiE",
    "outputId": "a36a2a7f-5d5e-432a-84e3-8606db83ad63"
   },
   "outputs": [
    {
     "data": {
      "text/html": [
       "<div>\n",
       "<style scoped>\n",
       "    .dataframe tbody tr th:only-of-type {\n",
       "        vertical-align: middle;\n",
       "    }\n",
       "\n",
       "    .dataframe tbody tr th {\n",
       "        vertical-align: top;\n",
       "    }\n",
       "\n",
       "    .dataframe thead th {\n",
       "        text-align: right;\n",
       "    }\n",
       "</style>\n",
       "<table border=\"1\" class=\"dataframe\">\n",
       "  <thead>\n",
       "    <tr style=\"text-align: right;\">\n",
       "      <th></th>\n",
       "      <th>Gender</th>\n",
       "      <th>Churn</th>\n",
       "      <th>PayMethd_cash</th>\n",
       "      <th>PayMethd_credit card</th>\n",
       "      <th>age</th>\n",
       "      <th>z_age</th>\n",
       "    </tr>\n",
       "  </thead>\n",
       "  <tbody>\n",
       "    <tr>\n",
       "      <th>0</th>\n",
       "      <td>0</td>\n",
       "      <td>loyal</td>\n",
       "      <td>0</td>\n",
       "      <td>1</td>\n",
       "      <td>121.0</td>\n",
       "      <td>3.718780</td>\n",
       "    </tr>\n",
       "    <tr>\n",
       "      <th>1</th>\n",
       "      <td>1</td>\n",
       "      <td>churn</td>\n",
       "      <td>0</td>\n",
       "      <td>1</td>\n",
       "      <td>20.0</td>\n",
       "      <td>-1.425675</td>\n",
       "    </tr>\n",
       "    <tr>\n",
       "      <th>2</th>\n",
       "      <td>0</td>\n",
       "      <td>loyal</td>\n",
       "      <td>0</td>\n",
       "      <td>1</td>\n",
       "      <td>40.0</td>\n",
       "      <td>-0.406971</td>\n",
       "    </tr>\n",
       "    <tr>\n",
       "      <th>3</th>\n",
       "      <td>1</td>\n",
       "      <td>churn</td>\n",
       "      <td>0</td>\n",
       "      <td>1</td>\n",
       "      <td>121.0</td>\n",
       "      <td>3.718780</td>\n",
       "    </tr>\n",
       "    <tr>\n",
       "      <th>4</th>\n",
       "      <td>1</td>\n",
       "      <td>churn</td>\n",
       "      <td>0</td>\n",
       "      <td>1</td>\n",
       "      <td>35.0</td>\n",
       "      <td>-0.661647</td>\n",
       "    </tr>\n",
       "  </tbody>\n",
       "</table>\n",
       "</div>"
      ],
      "text/plain": [
       "   Gender  Churn  PayMethd_cash  PayMethd_credit card    age     z_age\n",
       "0       0  loyal              0                     1  121.0  3.718780\n",
       "1       1  churn              0                     1   20.0 -1.425675\n",
       "2       0  loyal              0                     1   40.0 -0.406971\n",
       "3       1  churn              0                     1  121.0  3.718780\n",
       "4       1  churn              0                     1   35.0 -0.661647"
      ]
     },
     "execution_count": 56,
     "metadata": {},
     "output_type": "execute_result"
    }
   ],
   "source": [
    "df.head()"
   ]
  },
  {
   "cell_type": "code",
   "execution_count": 57,
   "metadata": {
    "colab": {
     "base_uri": "https://localhost:8080/",
     "height": 34
    },
    "colab_type": "code",
    "executionInfo": {
     "elapsed": 867,
     "status": "ok",
     "timestamp": 1560694142158,
     "user": {
      "displayName": "Teerapong Panboonyuen",
      "photoUrl": "https://lh6.googleusercontent.com/-iKyx5xtWFk8/AAAAAAAAAAI/AAAAAAAACqY/cdrOGhiN8Pw/s64/photo.jpg",
      "userId": "10952242531985089596"
     },
     "user_tz": -420
    },
    "id": "8FJ2BLLKnqTR",
    "outputId": "6e81a41e-ebd8-47ff-a94c-5632eb314488"
   },
   "outputs": [
    {
     "data": {
      "text/plain": [
       "-2.3425085010581945"
      ]
     },
     "execution_count": 57,
     "metadata": {},
     "output_type": "execute_result"
    }
   ],
   "source": [
    "df['z_age'].min()"
   ]
  },
  {
   "cell_type": "code",
   "execution_count": 58,
   "metadata": {
    "colab": {
     "base_uri": "https://localhost:8080/",
     "height": 34
    },
    "colab_type": "code",
    "executionInfo": {
     "elapsed": 686,
     "status": "ok",
     "timestamp": 1560694142159,
     "user": {
      "displayName": "Teerapong Panboonyuen",
      "photoUrl": "https://lh6.googleusercontent.com/-iKyx5xtWFk8/AAAAAAAAAAI/AAAAAAAACqY/cdrOGhiN8Pw/s64/photo.jpg",
      "userId": "10952242531985089596"
     },
     "user_tz": -420
    },
    "id": "yK2IXp6PnqV-",
    "outputId": "dd4f8706-fa38-41b3-f35b-f3631fbc8597"
   },
   "outputs": [
    {
     "data": {
      "text/plain": [
       "3.718779749022456"
      ]
     },
     "execution_count": 58,
     "metadata": {},
     "output_type": "execute_result"
    }
   ],
   "source": [
    "df['z_age'].max()"
   ]
  },
  {
   "cell_type": "code",
   "execution_count": 59,
   "metadata": {
    "colab": {},
    "colab_type": "code",
    "id": "nGWmUuwK7u6n"
   },
   "outputs": [],
   "source": [
    "df = df[df['z_age'].abs() < 3]"
   ]
  },
  {
   "cell_type": "code",
   "execution_count": 60,
   "metadata": {
    "colab": {
     "base_uri": "https://localhost:8080/",
     "height": 204
    },
    "colab_type": "code",
    "executionInfo": {
     "elapsed": 765,
     "status": "ok",
     "timestamp": 1560694142644,
     "user": {
      "displayName": "Teerapong Panboonyuen",
      "photoUrl": "https://lh6.googleusercontent.com/-iKyx5xtWFk8/AAAAAAAAAAI/AAAAAAAACqY/cdrOGhiN8Pw/s64/photo.jpg",
      "userId": "10952242531985089596"
     },
     "user_tz": -420
    },
    "id": "8m3AJMXI7vlV",
    "outputId": "82e6dfab-56bc-4ecd-8faa-93bb75dd505b"
   },
   "outputs": [
    {
     "data": {
      "text/html": [
       "<div>\n",
       "<style scoped>\n",
       "    .dataframe tbody tr th:only-of-type {\n",
       "        vertical-align: middle;\n",
       "    }\n",
       "\n",
       "    .dataframe tbody tr th {\n",
       "        vertical-align: top;\n",
       "    }\n",
       "\n",
       "    .dataframe thead th {\n",
       "        text-align: right;\n",
       "    }\n",
       "</style>\n",
       "<table border=\"1\" class=\"dataframe\">\n",
       "  <thead>\n",
       "    <tr style=\"text-align: right;\">\n",
       "      <th></th>\n",
       "      <th>Gender</th>\n",
       "      <th>Churn</th>\n",
       "      <th>PayMethd_cash</th>\n",
       "      <th>PayMethd_credit card</th>\n",
       "      <th>age</th>\n",
       "      <th>z_age</th>\n",
       "    </tr>\n",
       "  </thead>\n",
       "  <tbody>\n",
       "    <tr>\n",
       "      <th>1</th>\n",
       "      <td>1</td>\n",
       "      <td>churn</td>\n",
       "      <td>0</td>\n",
       "      <td>1</td>\n",
       "      <td>20.0</td>\n",
       "      <td>-1.425675</td>\n",
       "    </tr>\n",
       "    <tr>\n",
       "      <th>2</th>\n",
       "      <td>0</td>\n",
       "      <td>loyal</td>\n",
       "      <td>0</td>\n",
       "      <td>1</td>\n",
       "      <td>40.0</td>\n",
       "      <td>-0.406971</td>\n",
       "    </tr>\n",
       "    <tr>\n",
       "      <th>4</th>\n",
       "      <td>1</td>\n",
       "      <td>churn</td>\n",
       "      <td>0</td>\n",
       "      <td>1</td>\n",
       "      <td>35.0</td>\n",
       "      <td>-0.661647</td>\n",
       "    </tr>\n",
       "    <tr>\n",
       "      <th>5</th>\n",
       "      <td>0</td>\n",
       "      <td>churn</td>\n",
       "      <td>0</td>\n",
       "      <td>1</td>\n",
       "      <td>38.0</td>\n",
       "      <td>-0.508841</td>\n",
       "    </tr>\n",
       "    <tr>\n",
       "      <th>6</th>\n",
       "      <td>0</td>\n",
       "      <td>loyal</td>\n",
       "      <td>0</td>\n",
       "      <td>0</td>\n",
       "      <td>35.0</td>\n",
       "      <td>-0.661647</td>\n",
       "    </tr>\n",
       "  </tbody>\n",
       "</table>\n",
       "</div>"
      ],
      "text/plain": [
       "   Gender  Churn  PayMethd_cash  PayMethd_credit card   age     z_age\n",
       "1       1  churn              0                     1  20.0 -1.425675\n",
       "2       0  loyal              0                     1  40.0 -0.406971\n",
       "4       1  churn              0                     1  35.0 -0.661647\n",
       "5       0  churn              0                     1  38.0 -0.508841\n",
       "6       0  loyal              0                     0  35.0 -0.661647"
      ]
     },
     "execution_count": 60,
     "metadata": {},
     "output_type": "execute_result"
    }
   ],
   "source": [
    "df.head()"
   ]
  },
  {
   "cell_type": "code",
   "execution_count": 61,
   "metadata": {
    "colab": {},
    "colab_type": "code",
    "id": "TAVUmOMFnfO_"
   },
   "outputs": [],
   "source": [
    "df = df.drop(['z_age'], axis=1)"
   ]
  },
  {
   "cell_type": "code",
   "execution_count": 62,
   "metadata": {
    "colab": {
     "base_uri": "https://localhost:8080/",
     "height": 204
    },
    "colab_type": "code",
    "executionInfo": {
     "elapsed": 749,
     "status": "ok",
     "timestamp": 1560694143061,
     "user": {
      "displayName": "Teerapong Panboonyuen",
      "photoUrl": "https://lh6.googleusercontent.com/-iKyx5xtWFk8/AAAAAAAAAAI/AAAAAAAACqY/cdrOGhiN8Pw/s64/photo.jpg",
      "userId": "10952242531985089596"
     },
     "user_tz": -420
    },
    "id": "M_KAs9bQngAJ",
    "outputId": "3e3d9434-bcfd-4c0c-f667-4dd11cf310ef"
   },
   "outputs": [
    {
     "data": {
      "text/html": [
       "<div>\n",
       "<style scoped>\n",
       "    .dataframe tbody tr th:only-of-type {\n",
       "        vertical-align: middle;\n",
       "    }\n",
       "\n",
       "    .dataframe tbody tr th {\n",
       "        vertical-align: top;\n",
       "    }\n",
       "\n",
       "    .dataframe thead th {\n",
       "        text-align: right;\n",
       "    }\n",
       "</style>\n",
       "<table border=\"1\" class=\"dataframe\">\n",
       "  <thead>\n",
       "    <tr style=\"text-align: right;\">\n",
       "      <th></th>\n",
       "      <th>Gender</th>\n",
       "      <th>Churn</th>\n",
       "      <th>PayMethd_cash</th>\n",
       "      <th>PayMethd_credit card</th>\n",
       "      <th>age</th>\n",
       "    </tr>\n",
       "  </thead>\n",
       "  <tbody>\n",
       "    <tr>\n",
       "      <th>1</th>\n",
       "      <td>1</td>\n",
       "      <td>churn</td>\n",
       "      <td>0</td>\n",
       "      <td>1</td>\n",
       "      <td>20.0</td>\n",
       "    </tr>\n",
       "    <tr>\n",
       "      <th>2</th>\n",
       "      <td>0</td>\n",
       "      <td>loyal</td>\n",
       "      <td>0</td>\n",
       "      <td>1</td>\n",
       "      <td>40.0</td>\n",
       "    </tr>\n",
       "    <tr>\n",
       "      <th>4</th>\n",
       "      <td>1</td>\n",
       "      <td>churn</td>\n",
       "      <td>0</td>\n",
       "      <td>1</td>\n",
       "      <td>35.0</td>\n",
       "    </tr>\n",
       "    <tr>\n",
       "      <th>5</th>\n",
       "      <td>0</td>\n",
       "      <td>churn</td>\n",
       "      <td>0</td>\n",
       "      <td>1</td>\n",
       "      <td>38.0</td>\n",
       "    </tr>\n",
       "    <tr>\n",
       "      <th>6</th>\n",
       "      <td>0</td>\n",
       "      <td>loyal</td>\n",
       "      <td>0</td>\n",
       "      <td>0</td>\n",
       "      <td>35.0</td>\n",
       "    </tr>\n",
       "  </tbody>\n",
       "</table>\n",
       "</div>"
      ],
      "text/plain": [
       "   Gender  Churn  PayMethd_cash  PayMethd_credit card   age\n",
       "1       1  churn              0                     1  20.0\n",
       "2       0  loyal              0                     1  40.0\n",
       "4       1  churn              0                     1  35.0\n",
       "5       0  churn              0                     1  38.0\n",
       "6       0  loyal              0                     0  35.0"
      ]
     },
     "execution_count": 62,
     "metadata": {},
     "output_type": "execute_result"
    }
   ],
   "source": [
    "df.head()"
   ]
  },
  {
   "cell_type": "code",
   "execution_count": 63,
   "metadata": {
    "colab": {
     "base_uri": "https://localhost:8080/",
     "height": 503
    },
    "colab_type": "code",
    "executionInfo": {
     "elapsed": 1450,
     "status": "ok",
     "timestamp": 1560694143983,
     "user": {
      "displayName": "Teerapong Panboonyuen",
      "photoUrl": "https://lh6.googleusercontent.com/-iKyx5xtWFk8/AAAAAAAAAAI/AAAAAAAACqY/cdrOGhiN8Pw/s64/photo.jpg",
      "userId": "10952242531985089596"
     },
     "user_tz": -420
    },
    "id": "q1jVsQY-ngC4",
    "outputId": "eff68eef-6807-44a7-93bc-9fa97fe965bf"
   },
   "outputs": [
    {
     "data": {
      "text/plain": [
       "<matplotlib.axes._subplots.AxesSubplot at 0x1d2acceb408>"
      ]
     },
     "execution_count": 63,
     "metadata": {},
     "output_type": "execute_result"
    },
    {
     "data": {
      "image/png": "[encoded data removed]",
      "text/plain": [
       "<Figure size 864x576 with 1 Axes>"
      ]
     },
     "metadata": {
      "needs_background": "light"
     },
     "output_type": "display_data"
    }
   ],
   "source": [
    "df['age'].plot.hist(bins=100, alpha=1)"
   ]
  },
  {
   "cell_type": "code",
   "execution_count": 64,
   "metadata": {
    "colab": {
     "base_uri": "https://localhost:8080/",
     "height": 34
    },
    "colab_type": "code",
    "executionInfo": {
     "elapsed": 1654,
     "status": "ok",
     "timestamp": 1560694144381,
     "user": {
      "displayName": "Teerapong Panboonyuen",
      "photoUrl": "https://lh6.googleusercontent.com/-iKyx5xtWFk8/AAAAAAAAAAI/AAAAAAAACqY/cdrOGhiN8Pw/s64/photo.jpg",
      "userId": "10952242531985089596"
     },
     "user_tz": -420
    },
    "id": "rCxZDZtfqmOn",
    "outputId": "0ccab2b8-f26b-4ec1-f2ac-94f6ed7168cd"
   },
   "outputs": [
    {
     "data": {
      "text/plain": [
       "2.0"
      ]
     },
     "execution_count": 64,
     "metadata": {},
     "output_type": "execute_result"
    }
   ],
   "source": [
    "df['age'].min()"
   ]
  },
  {
   "cell_type": "code",
   "execution_count": 65,
   "metadata": {
    "colab": {},
    "colab_type": "code",
    "id": "XqzCnmt7qlSb"
   },
   "outputs": [],
   "source": [
    "df = df[df['age']> 0]"
   ]
  },
  {
   "cell_type": "code",
   "execution_count": 66,
   "metadata": {
    "colab": {
     "base_uri": "https://localhost:8080/",
     "height": 204
    },
    "colab_type": "code",
    "executionInfo": {
     "elapsed": 1234,
     "status": "ok",
     "timestamp": 1560694144385,
     "user": {
      "displayName": "Teerapong Panboonyuen",
      "photoUrl": "https://lh6.googleusercontent.com/-iKyx5xtWFk8/AAAAAAAAAAI/AAAAAAAACqY/cdrOGhiN8Pw/s64/photo.jpg",
      "userId": "10952242531985089596"
     },
     "user_tz": -420
    },
    "id": "T8iZ56NLqq9Z",
    "outputId": "1cb5a15f-9839-4133-f4ce-386024fa86b4"
   },
   "outputs": [
    {
     "data": {
      "text/html": [
       "<div>\n",
       "<style scoped>\n",
       "    .dataframe tbody tr th:only-of-type {\n",
       "        vertical-align: middle;\n",
       "    }\n",
       "\n",
       "    .dataframe tbody tr th {\n",
       "        vertical-align: top;\n",
       "    }\n",
       "\n",
       "    .dataframe thead th {\n",
       "        text-align: right;\n",
       "    }\n",
       "</style>\n",
       "<table border=\"1\" class=\"dataframe\">\n",
       "  <thead>\n",
       "    <tr style=\"text-align: right;\">\n",
       "      <th></th>\n",
       "      <th>Gender</th>\n",
       "      <th>Churn</th>\n",
       "      <th>PayMethd_cash</th>\n",
       "      <th>PayMethd_credit card</th>\n",
       "      <th>age</th>\n",
       "    </tr>\n",
       "  </thead>\n",
       "  <tbody>\n",
       "    <tr>\n",
       "      <th>1</th>\n",
       "      <td>1</td>\n",
       "      <td>churn</td>\n",
       "      <td>0</td>\n",
       "      <td>1</td>\n",
       "      <td>20.0</td>\n",
       "    </tr>\n",
       "    <tr>\n",
       "      <th>2</th>\n",
       "      <td>0</td>\n",
       "      <td>loyal</td>\n",
       "      <td>0</td>\n",
       "      <td>1</td>\n",
       "      <td>40.0</td>\n",
       "    </tr>\n",
       "    <tr>\n",
       "      <th>4</th>\n",
       "      <td>1</td>\n",
       "      <td>churn</td>\n",
       "      <td>0</td>\n",
       "      <td>1</td>\n",
       "      <td>35.0</td>\n",
       "    </tr>\n",
       "    <tr>\n",
       "      <th>5</th>\n",
       "      <td>0</td>\n",
       "      <td>churn</td>\n",
       "      <td>0</td>\n",
       "      <td>1</td>\n",
       "      <td>38.0</td>\n",
       "    </tr>\n",
       "    <tr>\n",
       "      <th>6</th>\n",
       "      <td>0</td>\n",
       "      <td>loyal</td>\n",
       "      <td>0</td>\n",
       "      <td>0</td>\n",
       "      <td>35.0</td>\n",
       "    </tr>\n",
       "  </tbody>\n",
       "</table>\n",
       "</div>"
      ],
      "text/plain": [
       "   Gender  Churn  PayMethd_cash  PayMethd_credit card   age\n",
       "1       1  churn              0                     1  20.0\n",
       "2       0  loyal              0                     1  40.0\n",
       "4       1  churn              0                     1  35.0\n",
       "5       0  churn              0                     1  38.0\n",
       "6       0  loyal              0                     0  35.0"
      ]
     },
     "execution_count": 66,
     "metadata": {},
     "output_type": "execute_result"
    }
   ],
   "source": [
    "df.head()"
   ]
  },
  {
   "cell_type": "code",
   "execution_count": 67,
   "metadata": {
    "colab": {
     "base_uri": "https://localhost:8080/",
     "height": 503
    },
    "colab_type": "code",
    "executionInfo": {
     "elapsed": 1499,
     "status": "ok",
     "timestamp": 1560694144863,
     "user": {
      "displayName": "Teerapong Panboonyuen",
      "photoUrl": "https://lh6.googleusercontent.com/-iKyx5xtWFk8/AAAAAAAAAAI/AAAAAAAACqY/cdrOGhiN8Pw/s64/photo.jpg",
      "userId": "10952242531985089596"
     },
     "user_tz": -420
    },
    "id": "heSjgGP3qrAB",
    "outputId": "2181e3f0-f90d-44ac-f7b1-83e31ba72b6d"
   },
   "outputs": [
    {
     "data": {
      "text/plain": [
       "<matplotlib.axes._subplots.AxesSubplot at 0x1d2acc74a48>"
      ]
     },
     "execution_count": 67,
     "metadata": {},
     "output_type": "execute_result"
    },
    {
     "data": {
      "image/png": "[encoded data removed]",
      "text/plain": [
       "<Figure size 864x576 with 1 Axes>"
      ]
     },
     "metadata": {
      "needs_background": "light"
     },
     "output_type": "display_data"
    }
   ],
   "source": [
    "df['age'].plot.hist(bins=70, alpha=1)"
   ]
  },
  {
   "cell_type": "markdown",
   "metadata": {
    "colab_type": "text",
    "id": "fgznLBdi7wk6"
   },
   "source": [
    "**9) Save data**"
   ]
  },
  {
   "cell_type": "code",
   "execution_count": 68,
   "metadata": {
    "colab": {},
    "colab_type": "code",
    "id": "vmow3XEr7yIq"
   },
   "outputs": [],
   "source": [
    "df.to_csv('customer_churn_cleaned.csv', sep=',', encoding='utf-8')"
   ]
  },
  {
   "cell_type": "code",
   "execution_count": 69,
   "metadata": {
    "colab": {
     "base_uri": "https://localhost:8080/",
     "height": 102
    },
    "colab_type": "code",
    "executionInfo": {
     "elapsed": 3180,
     "status": "ok",
     "timestamp": 1560694147315,
     "user": {
      "displayName": "Teerapong Panboonyuen",
      "photoUrl": "https://lh6.googleusercontent.com/-iKyx5xtWFk8/AAAAAAAAAAI/AAAAAAAACqY/cdrOGhiN8Pw/s64/photo.jpg",
      "userId": "10952242531985089596"
     },
     "user_tz": -420
    },
    "id": "MoXnV1x1q27S",
    "outputId": "08755895-e4c0-4bb8-e857-ae65e67111d0"
   },
   "outputs": [],
   "source": [
    "!ls"
   ]
  },
  {
   "cell_type": "code",
   "execution_count": 70,
   "metadata": {
    "colab": {
     "base_uri": "https://localhost:8080/",
     "height": 102
    },
    "colab_type": "code",
    "executionInfo": {
     "elapsed": 4853,
     "status": "ok",
     "timestamp": 1560694149297,
     "user": {
      "displayName": "Teerapong Panboonyuen",
      "photoUrl": "https://lh6.googleusercontent.com/-iKyx5xtWFk8/AAAAAAAAAAI/AAAAAAAACqY/cdrOGhiN8Pw/s64/photo.jpg",
      "userId": "10952242531985089596"
     },
     "user_tz": -420
    },
    "id": "q0v0hpukq3ra",
    "outputId": "a568bd75-b705-428d-d760-e50b15c066f4"
   },
   "outputs": [
    {
     "name": "stderr",
     "output_type": "stream",
     "text": [
      "'head' is not recognized as an internal or external command,\n",
      "operable program or batch file.\n"
     ]
    }
   ],
   "source": [
    "!head -5 customer_churn_cleaned.csv "
   ]
  },
  {
   "cell_type": "code",
   "execution_count": 71,
   "metadata": {
    "colab": {
     "base_uri": "https://localhost:8080/",
     "height": 390
    },
    "colab_type": "code",
    "executionInfo": {
     "elapsed": 4501,
     "status": "ok",
     "timestamp": 1560694149298,
     "user": {
      "displayName": "Teerapong Panboonyuen",
      "photoUrl": "https://lh6.googleusercontent.com/-iKyx5xtWFk8/AAAAAAAAAAI/AAAAAAAACqY/cdrOGhiN8Pw/s64/photo.jpg",
      "userId": "10952242531985089596"
     },
     "user_tz": -420
    },
    "id": "Z94MliXWq50O",
    "outputId": "4072bc70-7dab-4f66-e6dd-81e63438eea5"
   },
   "outputs": [
    {
     "data": {
      "text/html": [
       "<div>\n",
       "<style scoped>\n",
       "    .dataframe tbody tr th:only-of-type {\n",
       "        vertical-align: middle;\n",
       "    }\n",
       "\n",
       "    .dataframe tbody tr th {\n",
       "        vertical-align: top;\n",
       "    }\n",
       "\n",
       "    .dataframe thead th {\n",
       "        text-align: right;\n",
       "    }\n",
       "</style>\n",
       "<table border=\"1\" class=\"dataframe\">\n",
       "  <thead>\n",
       "    <tr style=\"text-align: right;\">\n",
       "      <th></th>\n",
       "      <th>Gender</th>\n",
       "      <th>Churn</th>\n",
       "      <th>PayMethd_cash</th>\n",
       "      <th>PayMethd_credit card</th>\n",
       "      <th>age</th>\n",
       "    </tr>\n",
       "  </thead>\n",
       "  <tbody>\n",
       "    <tr>\n",
       "      <th>count</th>\n",
       "      <td>893.000000</td>\n",
       "      <td>893</td>\n",
       "      <td>893.000000</td>\n",
       "      <td>893.000000</td>\n",
       "      <td>893.000000</td>\n",
       "    </tr>\n",
       "    <tr>\n",
       "      <th>unique</th>\n",
       "      <td>NaN</td>\n",
       "      <td>2</td>\n",
       "      <td>NaN</td>\n",
       "      <td>NaN</td>\n",
       "      <td>NaN</td>\n",
       "    </tr>\n",
       "    <tr>\n",
       "      <th>top</th>\n",
       "      <td>NaN</td>\n",
       "      <td>loyal</td>\n",
       "      <td>NaN</td>\n",
       "      <td>NaN</td>\n",
       "      <td>NaN</td>\n",
       "    </tr>\n",
       "    <tr>\n",
       "      <th>freq</th>\n",
       "      <td>NaN</td>\n",
       "      <td>572</td>\n",
       "      <td>NaN</td>\n",
       "      <td>NaN</td>\n",
       "      <td>NaN</td>\n",
       "    </tr>\n",
       "    <tr>\n",
       "      <th>mean</th>\n",
       "      <td>0.449048</td>\n",
       "      <td>NaN</td>\n",
       "      <td>0.288914</td>\n",
       "      <td>0.643897</td>\n",
       "      <td>47.581187</td>\n",
       "    </tr>\n",
       "    <tr>\n",
       "      <th>std</th>\n",
       "      <td>0.497676</td>\n",
       "      <td>NaN</td>\n",
       "      <td>0.453512</td>\n",
       "      <td>0.479115</td>\n",
       "      <td>18.920691</td>\n",
       "    </tr>\n",
       "    <tr>\n",
       "      <th>min</th>\n",
       "      <td>0.000000</td>\n",
       "      <td>NaN</td>\n",
       "      <td>0.000000</td>\n",
       "      <td>0.000000</td>\n",
       "      <td>2.000000</td>\n",
       "    </tr>\n",
       "    <tr>\n",
       "      <th>25%</th>\n",
       "      <td>0.000000</td>\n",
       "      <td>NaN</td>\n",
       "      <td>0.000000</td>\n",
       "      <td>0.000000</td>\n",
       "      <td>32.000000</td>\n",
       "    </tr>\n",
       "    <tr>\n",
       "      <th>50%</th>\n",
       "      <td>0.000000</td>\n",
       "      <td>NaN</td>\n",
       "      <td>0.000000</td>\n",
       "      <td>1.000000</td>\n",
       "      <td>46.000000</td>\n",
       "    </tr>\n",
       "    <tr>\n",
       "      <th>75%</th>\n",
       "      <td>1.000000</td>\n",
       "      <td>NaN</td>\n",
       "      <td>1.000000</td>\n",
       "      <td>1.000000</td>\n",
       "      <td>59.000000</td>\n",
       "    </tr>\n",
       "    <tr>\n",
       "      <th>max</th>\n",
       "      <td>1.000000</td>\n",
       "      <td>NaN</td>\n",
       "      <td>1.000000</td>\n",
       "      <td>1.000000</td>\n",
       "      <td>93.000000</td>\n",
       "    </tr>\n",
       "  </tbody>\n",
       "</table>\n",
       "</div>"
      ],
      "text/plain": [
       "            Gender  Churn  PayMethd_cash  PayMethd_credit card         age\n",
       "count   893.000000    893     893.000000            893.000000  893.000000\n",
       "unique         NaN      2            NaN                   NaN         NaN\n",
       "top            NaN  loyal            NaN                   NaN         NaN\n",
       "freq           NaN    572            NaN                   NaN         NaN\n",
       "mean      0.449048    NaN       0.288914              0.643897   47.581187\n",
       "std       0.497676    NaN       0.453512              0.479115   18.920691\n",
       "min       0.000000    NaN       0.000000              0.000000    2.000000\n",
       "25%       0.000000    NaN       0.000000              0.000000   32.000000\n",
       "50%       0.000000    NaN       0.000000              1.000000   46.000000\n",
       "75%       1.000000    NaN       1.000000              1.000000   59.000000\n",
       "max       1.000000    NaN       1.000000              1.000000   93.000000"
      ]
     },
     "execution_count": 71,
     "metadata": {},
     "output_type": "execute_result"
    }
   ],
   "source": [
    "df.describe(include = 'all')"
   ]
  },
  {
   "cell_type": "code",
   "execution_count": null,
   "metadata": {
    "colab": {},
    "colab_type": "code",
    "id": "IrrUh0k3rD1E"
   },
   "outputs": [],
   "source": []
  }
 ],
 "metadata": {
  "colab": {
   "collapsed_sections": [],
   "name": "2_DataPreparation.ipynb",
   "provenance": [],
   "version": "0.3.2"
  },
  "kernelspec": {
   "display_name": "Python 3",
   "language": "python",
   "name": "python3"
  },
  "language_info": {
   "codemirror_mode": {
    "name": "ipython",
    "version": 3
   },
   "file_extension": ".py",
   "mimetype": "text/x-python",
   "name": "python",
   "nbconvert_exporter": "python",
   "pygments_lexer": "ipython3",
   "version": "3.7.6"
  }
 },
 "nbformat": 4,
 "nbformat_minor": 1
}
